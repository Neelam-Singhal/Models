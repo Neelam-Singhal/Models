{
 "metadata": {
  "language_info": {
   "codemirror_mode": {
    "name": "ipython",
    "version": 3
   },
   "file_extension": ".py",
   "mimetype": "text/x-python",
   "name": "python",
   "nbconvert_exporter": "python",
   "pygments_lexer": "ipython3",
   "version": "3.8.2"
  },
  "orig_nbformat": 2,
  "kernelspec": {
   "name": "python382jvsc74a57bd0e905ad718a08ed27c2c36c9ef4f1f873648da9e7705f623e5afe311501acb5e0",
   "display_name": "Python 3.8.2 64-bit ('env')"
  }
 },
 "nbformat": 4,
 "nbformat_minor": 2,
 "cells": [
  {
   "source": [
    "# Regression Benchmark "
   ],
   "cell_type": "markdown",
   "metadata": {}
  },
  {
   "source": [
    "### Probem Example (Regression) - Big Mart Sales:\n",
    "To build a predictive model and find out the sales of each product at the store.\n",
    "\n",
    "Good starting point:\n",
    "- Mean - whats has been total sales of each product month on month\n",
    "- Mean with respect to another variable\n",
    "\n",
    "The two most commonly used measures of central tendency for numerical data are the mean and the median. Since the regression problem deals with continuous data, mean and median are the correct measures.\n"
   ],
   "cell_type": "markdown",
   "metadata": {}
  },
  {
   "source": [
    "To evaluate the model:\n",
    "\n",
    "Mean Absolute Error -> sum of abs different between every observation, divided by number of obs\n"
   ],
   "cell_type": "markdown",
   "metadata": {}
  },
  {
   "cell_type": "code",
   "execution_count": 1,
   "metadata": {},
   "outputs": [],
   "source": [
    "#importing libraries \n",
    "\n",
    "import pandas as pd \n",
    "import numpy as np\n",
    "import matplotlib.pyplot as plt"
   ]
  },
  {
   "cell_type": "code",
   "execution_count": 2,
   "metadata": {},
   "outputs": [],
   "source": [
    "data = pd.read_csv('train_bm.csv')"
   ]
  },
  {
   "cell_type": "code",
   "execution_count": 4,
   "metadata": {},
   "outputs": [
    {
     "output_type": "execute_result",
     "data": {
      "text/plain": [
       "(8523, 12)"
      ]
     },
     "metadata": {},
     "execution_count": 4
    }
   ],
   "source": [
    "data.shape"
   ]
  },
  {
   "cell_type": "code",
   "execution_count": 56,
   "metadata": {},
   "outputs": [
    {
     "output_type": "execute_result",
     "data": {
      "text/plain": [
       "       Item_Weight  Item_Visibility     Item_MRP  Outlet_Establishment_Year  \\\n",
       "count  7060.000000      8523.000000  8523.000000                8523.000000   \n",
       "mean     12.857645         0.066132   140.992782                1997.831867   \n",
       "std       4.643456         0.051598    62.275067                   8.371760   \n",
       "min       4.555000         0.000000    31.290000                1985.000000   \n",
       "25%       8.773750         0.026989    93.826500                1987.000000   \n",
       "50%      12.600000         0.053931   143.012800                1999.000000   \n",
       "75%      16.850000         0.094585   185.643700                2004.000000   \n",
       "max      21.350000         0.328391   266.888400                2009.000000   \n",
       "\n",
       "       Item_Outlet_Sales  \n",
       "count        8523.000000  \n",
       "mean         2181.288914  \n",
       "std          1706.499616  \n",
       "min            33.290000  \n",
       "25%           834.247400  \n",
       "50%          1794.331000  \n",
       "75%          3101.296400  \n",
       "max         13086.964800  "
      ],
      "text/html": "<div>\n<style scoped>\n    .dataframe tbody tr th:only-of-type {\n        vertical-align: middle;\n    }\n\n    .dataframe tbody tr th {\n        vertical-align: top;\n    }\n\n    .dataframe thead th {\n        text-align: right;\n    }\n</style>\n<table border=\"1\" class=\"dataframe\">\n  <thead>\n    <tr style=\"text-align: right;\">\n      <th></th>\n      <th>Item_Weight</th>\n      <th>Item_Visibility</th>\n      <th>Item_MRP</th>\n      <th>Outlet_Establishment_Year</th>\n      <th>Item_Outlet_Sales</th>\n    </tr>\n  </thead>\n  <tbody>\n    <tr>\n      <th>count</th>\n      <td>7060.000000</td>\n      <td>8523.000000</td>\n      <td>8523.000000</td>\n      <td>8523.000000</td>\n      <td>8523.000000</td>\n    </tr>\n    <tr>\n      <th>mean</th>\n      <td>12.857645</td>\n      <td>0.066132</td>\n      <td>140.992782</td>\n      <td>1997.831867</td>\n      <td>2181.288914</td>\n    </tr>\n    <tr>\n      <th>std</th>\n      <td>4.643456</td>\n      <td>0.051598</td>\n      <td>62.275067</td>\n      <td>8.371760</td>\n      <td>1706.499616</td>\n    </tr>\n    <tr>\n      <th>min</th>\n      <td>4.555000</td>\n      <td>0.000000</td>\n      <td>31.290000</td>\n      <td>1985.000000</td>\n      <td>33.290000</td>\n    </tr>\n    <tr>\n      <th>25%</th>\n      <td>8.773750</td>\n      <td>0.026989</td>\n      <td>93.826500</td>\n      <td>1987.000000</td>\n      <td>834.247400</td>\n    </tr>\n    <tr>\n      <th>50%</th>\n      <td>12.600000</td>\n      <td>0.053931</td>\n      <td>143.012800</td>\n      <td>1999.000000</td>\n      <td>1794.331000</td>\n    </tr>\n    <tr>\n      <th>75%</th>\n      <td>16.850000</td>\n      <td>0.094585</td>\n      <td>185.643700</td>\n      <td>2004.000000</td>\n      <td>3101.296400</td>\n    </tr>\n    <tr>\n      <th>max</th>\n      <td>21.350000</td>\n      <td>0.328391</td>\n      <td>266.888400</td>\n      <td>2009.000000</td>\n      <td>13086.964800</td>\n    </tr>\n  </tbody>\n</table>\n</div>"
     },
     "metadata": {},
     "execution_count": 56
    }
   ],
   "source": [
    "data.describe()"
   ]
  },
  {
   "cell_type": "code",
   "execution_count": 6,
   "metadata": {},
   "outputs": [
    {
     "output_type": "execute_result",
     "data": {
      "text/plain": [
       "Item_Identifier                 0\n",
       "Item_Weight                  1463\n",
       "Item_Fat_Content                0\n",
       "Item_Visibility                 0\n",
       "Item_Type                       0\n",
       "Item_MRP                        0\n",
       "Outlet_Identifier               0\n",
       "Outlet_Establishment_Year       0\n",
       "Outlet_Size                  2410\n",
       "Outlet_Location_Type            0\n",
       "Outlet_Type                     0\n",
       "Item_Outlet_Sales               0\n",
       "dtype: int64"
      ]
     },
     "metadata": {},
     "execution_count": 6
    }
   ],
   "source": [
    "data.isnull().sum()"
   ]
  },
  {
   "source": [
    "### Shuffling and Creating Train and Test Set"
   ],
   "cell_type": "markdown",
   "metadata": {}
  },
  {
   "cell_type": "code",
   "execution_count": 8,
   "metadata": {},
   "outputs": [],
   "source": [
    "from sklearn.utils import shuffle"
   ]
  },
  {
   "cell_type": "code",
   "execution_count": 12,
   "metadata": {},
   "outputs": [],
   "source": [
    "#shuffle dataset\n",
    "\n",
    "data = shuffle(data, random_state=42)\n",
    "\n",
    "#creating 4 division of data\n",
    "div = int(data.shape[0]/4)\n",
    "\n",
    "# 3 parts to train set and 1 part to test set\n",
    "train = data.iloc[:3*div+1,:]\n",
    "test = data.iloc[3*div+1:]"
   ]
  },
  {
   "cell_type": "code",
   "execution_count": 13,
   "metadata": {},
   "outputs": [
    {
     "output_type": "execute_result",
     "data": {
      "text/plain": [
       "((6391, 12), (2132, 12), (8523, 12))"
      ]
     },
     "metadata": {},
     "execution_count": 13
    }
   ],
   "source": [
    "train.shape, test.shape, data.shape"
   ]
  },
  {
   "source": [
    "## simple mean model (benchmark)\n",
    "\n",
    "Find out the simple mean of train model and save it as a column in test dataset\n"
   ],
   "cell_type": "markdown",
   "metadata": {}
  },
  {
   "cell_type": "code",
   "execution_count": 15,
   "metadata": {},
   "outputs": [
    {
     "output_type": "stream",
     "name": "stderr",
     "text": [
      "<ipython-input-15-e4d80bf28089>:2: SettingWithCopyWarning: \nA value is trying to be set on a copy of a slice from a DataFrame.\nTry using .loc[row_indexer,col_indexer] = value instead\n\nSee the caveats in the documentation: https://pandas.pydata.org/pandas-docs/stable/user_guide/indexing.html#returning-a-view-versus-a-copy\n  test['simple_mean'] = train.Item_Outlet_Sales.mean()\n"
     ]
    }
   ],
   "source": [
    "test['simple_mean'] = train.Item_Outlet_Sales.mean()"
   ]
  },
  {
   "source": [
    "Calculate the error between the mean values created in line above with the actual value in Item_Outlet_Sales()\n"
   ],
   "cell_type": "markdown",
   "metadata": {}
  },
  {
   "cell_type": "code",
   "execution_count": 57,
   "metadata": {},
   "outputs": [
    {
     "output_type": "execute_result",
     "data": {
      "text/plain": [
       "1348.3091635746123"
      ]
     },
     "metadata": {},
     "execution_count": 57
    }
   ],
   "source": [
    "from sklearn.metrics import mean_absolute_error as MAE\n",
    "\n",
    "simple_mean_error = MAE(test.Item_Outlet_Sales, test.simple_mean)\n",
    "simple_mean_error"
   ]
  },
  {
   "source": [
    "This is the benchmark value for model we will create to predict accuracy of the models."
   ],
   "cell_type": "markdown",
   "metadata": {}
  },
  {
   "source": [
    "## Mean Item Outlet Sales with respect to Outlet_Type\n",
    "\n",
    "Now, we will try to improve the above prediction by predicting based on outlet tyoe\n"
   ],
   "cell_type": "markdown",
   "metadata": {}
  },
  {
   "cell_type": "code",
   "execution_count": 27,
   "metadata": {},
   "outputs": [
    {
     "output_type": "execute_result",
     "data": {
      "text/plain": [
       "                   Item_Outlet_Sales\n",
       "Outlet_Type                         \n",
       "Grocery Store             334.106148\n",
       "Supermarket Type1        2293.636762\n",
       "Supermarket Type2        2034.330733\n",
       "Supermarket Type3        3684.008727"
      ],
      "text/html": "<div>\n<style scoped>\n    .dataframe tbody tr th:only-of-type {\n        vertical-align: middle;\n    }\n\n    .dataframe tbody tr th {\n        vertical-align: top;\n    }\n\n    .dataframe thead th {\n        text-align: right;\n    }\n</style>\n<table border=\"1\" class=\"dataframe\">\n  <thead>\n    <tr style=\"text-align: right;\">\n      <th></th>\n      <th>Item_Outlet_Sales</th>\n    </tr>\n    <tr>\n      <th>Outlet_Type</th>\n      <th></th>\n    </tr>\n  </thead>\n  <tbody>\n    <tr>\n      <th>Grocery Store</th>\n      <td>334.106148</td>\n    </tr>\n    <tr>\n      <th>Supermarket Type1</th>\n      <td>2293.636762</td>\n    </tr>\n    <tr>\n      <th>Supermarket Type2</th>\n      <td>2034.330733</td>\n    </tr>\n    <tr>\n      <th>Supermarket Type3</th>\n      <td>3684.008727</td>\n    </tr>\n  </tbody>\n</table>\n</div>"
     },
     "metadata": {},
     "execution_count": 27
    }
   ],
   "source": [
    "out_type = pd.pivot_table(train, values = 'Item_Outlet_Sales', index=['Outlet_Type'], aggfunc=np.mean)\n",
    "\n",
    "out_type"
   ]
  },
  {
   "cell_type": "code",
   "execution_count": 29,
   "metadata": {},
   "outputs": [
    {
     "output_type": "stream",
     "name": "stderr",
     "text": [
      "<ipython-input-29-9f7ddd1e0e07>:2: SettingWithCopyWarning: \nA value is trying to be set on a copy of a slice from a DataFrame.\nTry using .loc[row_indexer,col_indexer] = value instead\n\nSee the caveats in the documentation: https://pandas.pydata.org/pandas-docs/stable/user_guide/indexing.html#returning-a-view-versus-a-copy\n  test['Out_type_mean'] = 0\n<ipython-input-29-9f7ddd1e0e07>:5: SettingWithCopyWarning: \nA value is trying to be set on a copy of a slice from a DataFrame\n\nSee the caveats in the documentation: https://pandas.pydata.org/pandas-docs/stable/user_guide/indexing.html#returning-a-view-versus-a-copy\n  test['Out_type_mean'][test.Outlet_Type == str(i)] = train['Item_Outlet_Sales'][train.Outlet_Type == str(i)].mean()\nc:\\Users\\Neelam\\Desktop\\Desktop\\Python\\Video\\env\\lib\\site-packages\\pandas\\core\\series.py:963: SettingWithCopyWarning: \nA value is trying to be set on a copy of a slice from a DataFrame\n\nSee the caveats in the documentation: https://pandas.pydata.org/pandas-docs/stable/user_guide/indexing.html#returning-a-view-versus-a-copy\n  self._where(~key, value, inplace=True)\n<ipython-input-29-9f7ddd1e0e07>:5: SettingWithCopyWarning: \nA value is trying to be set on a copy of a slice from a DataFrame\n\nSee the caveats in the documentation: https://pandas.pydata.org/pandas-docs/stable/user_guide/indexing.html#returning-a-view-versus-a-copy\n  test['Out_type_mean'][test.Outlet_Type == str(i)] = train['Item_Outlet_Sales'][train.Outlet_Type == str(i)].mean()\n"
     ]
    }
   ],
   "source": [
    "# initializing new column to zero\n",
    "test['Out_type_mean'] = 0\n",
    "\n",
    "for i in test.Outlet_Type.unique():\n",
    "    test['Out_type_mean'][test.Outlet_Type == str(i)] = train['Item_Outlet_Sales'][train.Outlet_Type == str(i)].mean()"
   ]
  },
  {
   "cell_type": "code",
   "execution_count": 30,
   "metadata": {},
   "outputs": [
    {
     "output_type": "execute_result",
     "data": {
      "text/plain": [
       "     Item_Identifier  Item_Weight Item_Fat_Content  Item_Visibility  \\\n",
       "432            FDF10        15.50          Regular         0.157172   \n",
       "4451           FDZ37          NaN          Regular         0.019673   \n",
       "1412           DRF23         4.61          Low Fat         0.123346   \n",
       "1329           NCQ41          NaN          Low Fat         0.019386   \n",
       "6874           NCM17         7.93          Low Fat         0.071426   \n",
       "\n",
       "               Item_Type  Item_MRP Outlet_Identifier  \\\n",
       "432          Snack Foods  149.1418            OUT049   \n",
       "4451              Canned   86.4198            OUT027   \n",
       "1412         Hard Drinks  172.5396            OUT017   \n",
       "1329  Health and Hygiene  194.5794            OUT027   \n",
       "6874  Health and Hygiene   45.9086            OUT018   \n",
       "\n",
       "      Outlet_Establishment_Year Outlet_Size Outlet_Location_Type  \\\n",
       "432                        1999      Medium               Tier 1   \n",
       "4451                       1985      Medium               Tier 3   \n",
       "1412                       2007         NaN               Tier 2   \n",
       "1329                       1985      Medium               Tier 3   \n",
       "6874                       2009      Medium               Tier 3   \n",
       "\n",
       "            Outlet_Type  Item_Outlet_Sales  simple_mean  Out_type_mean  \n",
       "432   Supermarket Type1           588.5672     2169.533    2293.636762  \n",
       "4451  Supermarket Type3          1918.8356     2169.533    3684.008727  \n",
       "1412  Supermarket Type1          3663.2316     2169.533    2293.636762  \n",
       "1329  Supermarket Type3          3511.4292     2169.533    3684.008727  \n",
       "6874  Supermarket Type2          1070.6064     2169.533    2034.330733  "
      ],
      "text/html": "<div>\n<style scoped>\n    .dataframe tbody tr th:only-of-type {\n        vertical-align: middle;\n    }\n\n    .dataframe tbody tr th {\n        vertical-align: top;\n    }\n\n    .dataframe thead th {\n        text-align: right;\n    }\n</style>\n<table border=\"1\" class=\"dataframe\">\n  <thead>\n    <tr style=\"text-align: right;\">\n      <th></th>\n      <th>Item_Identifier</th>\n      <th>Item_Weight</th>\n      <th>Item_Fat_Content</th>\n      <th>Item_Visibility</th>\n      <th>Item_Type</th>\n      <th>Item_MRP</th>\n      <th>Outlet_Identifier</th>\n      <th>Outlet_Establishment_Year</th>\n      <th>Outlet_Size</th>\n      <th>Outlet_Location_Type</th>\n      <th>Outlet_Type</th>\n      <th>Item_Outlet_Sales</th>\n      <th>simple_mean</th>\n      <th>Out_type_mean</th>\n    </tr>\n  </thead>\n  <tbody>\n    <tr>\n      <th>432</th>\n      <td>FDF10</td>\n      <td>15.50</td>\n      <td>Regular</td>\n      <td>0.157172</td>\n      <td>Snack Foods</td>\n      <td>149.1418</td>\n      <td>OUT049</td>\n      <td>1999</td>\n      <td>Medium</td>\n      <td>Tier 1</td>\n      <td>Supermarket Type1</td>\n      <td>588.5672</td>\n      <td>2169.533</td>\n      <td>2293.636762</td>\n    </tr>\n    <tr>\n      <th>4451</th>\n      <td>FDZ37</td>\n      <td>NaN</td>\n      <td>Regular</td>\n      <td>0.019673</td>\n      <td>Canned</td>\n      <td>86.4198</td>\n      <td>OUT027</td>\n      <td>1985</td>\n      <td>Medium</td>\n      <td>Tier 3</td>\n      <td>Supermarket Type3</td>\n      <td>1918.8356</td>\n      <td>2169.533</td>\n      <td>3684.008727</td>\n    </tr>\n    <tr>\n      <th>1412</th>\n      <td>DRF23</td>\n      <td>4.61</td>\n      <td>Low Fat</td>\n      <td>0.123346</td>\n      <td>Hard Drinks</td>\n      <td>172.5396</td>\n      <td>OUT017</td>\n      <td>2007</td>\n      <td>NaN</td>\n      <td>Tier 2</td>\n      <td>Supermarket Type1</td>\n      <td>3663.2316</td>\n      <td>2169.533</td>\n      <td>2293.636762</td>\n    </tr>\n    <tr>\n      <th>1329</th>\n      <td>NCQ41</td>\n      <td>NaN</td>\n      <td>Low Fat</td>\n      <td>0.019386</td>\n      <td>Health and Hygiene</td>\n      <td>194.5794</td>\n      <td>OUT027</td>\n      <td>1985</td>\n      <td>Medium</td>\n      <td>Tier 3</td>\n      <td>Supermarket Type3</td>\n      <td>3511.4292</td>\n      <td>2169.533</td>\n      <td>3684.008727</td>\n    </tr>\n    <tr>\n      <th>6874</th>\n      <td>NCM17</td>\n      <td>7.93</td>\n      <td>Low Fat</td>\n      <td>0.071426</td>\n      <td>Health and Hygiene</td>\n      <td>45.9086</td>\n      <td>OUT018</td>\n      <td>2009</td>\n      <td>Medium</td>\n      <td>Tier 3</td>\n      <td>Supermarket Type2</td>\n      <td>1070.6064</td>\n      <td>2169.533</td>\n      <td>2034.330733</td>\n    </tr>\n  </tbody>\n</table>\n</div>"
     },
     "metadata": {},
     "execution_count": 30
    }
   ],
   "source": [
    "test.head()"
   ]
  },
  {
   "cell_type": "code",
   "execution_count": 32,
   "metadata": {},
   "outputs": [
    {
     "output_type": "execute_result",
     "data": {
      "text/plain": [
       "1114.8889656414237"
      ]
     },
     "metadata": {},
     "execution_count": 32
    }
   ],
   "source": [
    "#mean suqare error\n",
    "\n",
    "err = MAE(test.Item_Outlet_Sales, test.Out_type_mean)\n",
    "err"
   ]
  },
  {
   "source": [
    "Conclusion: As we can see, the MAE did improve by using Outlet Type."
   ],
   "cell_type": "markdown",
   "metadata": {}
  },
  {
   "source": [
    "## Mean Item Outlet Sales with respect to Outlet_Establishment_Year\n"
   ],
   "cell_type": "markdown",
   "metadata": {}
  },
  {
   "cell_type": "code",
   "execution_count": 35,
   "metadata": {},
   "outputs": [
    {
     "output_type": "execute_result",
     "data": {
      "text/plain": [
       "                           Item_Outlet_Sales\n",
       "Outlet_Establishment_Year                   \n",
       "1985                             2483.677474\n",
       "1987                             2298.995256\n",
       "1997                             2277.844267\n",
       "1998                              339.351662\n",
       "1999                             2348.354635\n",
       "2002                             2192.384798\n",
       "2004                             2438.841866\n",
       "2007                             2340.675263\n",
       "2009                             1995.498739"
      ],
      "text/html": "<div>\n<style scoped>\n    .dataframe tbody tr th:only-of-type {\n        vertical-align: middle;\n    }\n\n    .dataframe tbody tr th {\n        vertical-align: top;\n    }\n\n    .dataframe thead th {\n        text-align: right;\n    }\n</style>\n<table border=\"1\" class=\"dataframe\">\n  <thead>\n    <tr style=\"text-align: right;\">\n      <th></th>\n      <th>Item_Outlet_Sales</th>\n    </tr>\n    <tr>\n      <th>Outlet_Establishment_Year</th>\n      <th></th>\n    </tr>\n  </thead>\n  <tbody>\n    <tr>\n      <th>1985</th>\n      <td>2483.677474</td>\n    </tr>\n    <tr>\n      <th>1987</th>\n      <td>2298.995256</td>\n    </tr>\n    <tr>\n      <th>1997</th>\n      <td>2277.844267</td>\n    </tr>\n    <tr>\n      <th>1998</th>\n      <td>339.351662</td>\n    </tr>\n    <tr>\n      <th>1999</th>\n      <td>2348.354635</td>\n    </tr>\n    <tr>\n      <th>2002</th>\n      <td>2192.384798</td>\n    </tr>\n    <tr>\n      <th>2004</th>\n      <td>2438.841866</td>\n    </tr>\n    <tr>\n      <th>2007</th>\n      <td>2340.675263</td>\n    </tr>\n    <tr>\n      <th>2009</th>\n      <td>1995.498739</td>\n    </tr>\n  </tbody>\n</table>\n</div>"
     },
     "metadata": {},
     "execution_count": 35
    }
   ],
   "source": [
    "establis_year = pd.pivot_table(data, values='Item_Outlet_Sales', index= ['Outlet_Establishment_Year'], aggfunc=np.mean)\n",
    "\n",
    "establis_year"
   ]
  },
  {
   "cell_type": "code",
   "execution_count": 42,
   "metadata": {},
   "outputs": [
    {
     "output_type": "stream",
     "name": "stderr",
     "text": [
      "<ipython-input-42-afb03e879e38>:1: SettingWithCopyWarning: \nA value is trying to be set on a copy of a slice from a DataFrame.\nTry using .loc[row_indexer,col_indexer] = value instead\n\nSee the caveats in the documentation: https://pandas.pydata.org/pandas-docs/stable/user_guide/indexing.html#returning-a-view-versus-a-copy\n  test['establisment_year_mean'] = 0\n<ipython-input-42-afb03e879e38>:4: SettingWithCopyWarning: \nA value is trying to be set on a copy of a slice from a DataFrame\n\nSee the caveats in the documentation: https://pandas.pydata.org/pandas-docs/stable/user_guide/indexing.html#returning-a-view-versus-a-copy\n  test['establisment_year_mean'][test.Outlet_Establishment_Year == str(i)] = train['Item_Outlet_Sales'][train['Outlet_Establishment_Year'] == str(i)].mean()\nc:\\Users\\Neelam\\Desktop\\Desktop\\Python\\Video\\env\\lib\\site-packages\\pandas\\core\\series.py:963: SettingWithCopyWarning: \nA value is trying to be set on a copy of a slice from a DataFrame\n\nSee the caveats in the documentation: https://pandas.pydata.org/pandas-docs/stable/user_guide/indexing.html#returning-a-view-versus-a-copy\n  self._where(~key, value, inplace=True)\n"
     ]
    }
   ],
   "source": [
    "test['establisment_year_mean'] = 0\n",
    "\n",
    "for i in data.Outlet_Establishment_Year.unique():\n",
    "    test['establisment_year_mean'][test.Outlet_Establishment_Year == str(i)] = train['Item_Outlet_Sales'][train['Outlet_Establishment_Year'] == str(i)].mean()"
   ]
  },
  {
   "cell_type": "code",
   "execution_count": 43,
   "metadata": {},
   "outputs": [
    {
     "output_type": "execute_result",
     "data": {
      "text/plain": [
       "2216.5290828330203"
      ]
     },
     "metadata": {},
     "execution_count": 43
    }
   ],
   "source": [
    "errorrr = MAE(test.Item_Outlet_Sales, test.establisment_year_mean)\n",
    "\n",
    "errorrr"
   ]
  },
  {
   "source": [
    "Conclusion: As we can see, the MAE did not improve by using establishment year."
   ],
   "cell_type": "markdown",
   "metadata": {}
  },
  {
   "source": [
    "## Mean Item_Outlet_Sales with respect to both Outlet_Location_Type and Outlet_Establishment_Year\n",
    "\n",
    "Now we will use 2 features to create our model. Making the model more complex"
   ],
   "cell_type": "markdown",
   "metadata": {}
  },
  {
   "cell_type": "code",
   "execution_count": 46,
   "metadata": {},
   "outputs": [
    {
     "output_type": "execute_result",
     "data": {
      "text/plain": [
       "                                                Item_Outlet_Sales\n",
       "Outlet_Location_Type Outlet_Establishment_Year                   \n",
       "Tier 1               1985                              332.709060\n",
       "                     1997                             2249.438082\n",
       "                     1999                             2368.598566\n",
       "Tier 2               2002                             2105.096784\n",
       "                     2004                             2435.711052\n",
       "                     2007                             2350.448072\n",
       "Tier 3               1985                             3684.008727\n",
       "                     1987                             2254.352110\n",
       "                     1998                              335.469243\n",
       "                     2009                             2034.330733"
      ],
      "text/html": "<div>\n<style scoped>\n    .dataframe tbody tr th:only-of-type {\n        vertical-align: middle;\n    }\n\n    .dataframe tbody tr th {\n        vertical-align: top;\n    }\n\n    .dataframe thead th {\n        text-align: right;\n    }\n</style>\n<table border=\"1\" class=\"dataframe\">\n  <thead>\n    <tr style=\"text-align: right;\">\n      <th></th>\n      <th></th>\n      <th>Item_Outlet_Sales</th>\n    </tr>\n    <tr>\n      <th>Outlet_Location_Type</th>\n      <th>Outlet_Establishment_Year</th>\n      <th></th>\n    </tr>\n  </thead>\n  <tbody>\n    <tr>\n      <th rowspan=\"3\" valign=\"top\">Tier 1</th>\n      <th>1985</th>\n      <td>332.709060</td>\n    </tr>\n    <tr>\n      <th>1997</th>\n      <td>2249.438082</td>\n    </tr>\n    <tr>\n      <th>1999</th>\n      <td>2368.598566</td>\n    </tr>\n    <tr>\n      <th rowspan=\"3\" valign=\"top\">Tier 2</th>\n      <th>2002</th>\n      <td>2105.096784</td>\n    </tr>\n    <tr>\n      <th>2004</th>\n      <td>2435.711052</td>\n    </tr>\n    <tr>\n      <th>2007</th>\n      <td>2350.448072</td>\n    </tr>\n    <tr>\n      <th rowspan=\"4\" valign=\"top\">Tier 3</th>\n      <th>1985</th>\n      <td>3684.008727</td>\n    </tr>\n    <tr>\n      <th>1987</th>\n      <td>2254.352110</td>\n    </tr>\n    <tr>\n      <th>1998</th>\n      <td>335.469243</td>\n    </tr>\n    <tr>\n      <th>2009</th>\n      <td>2034.330733</td>\n    </tr>\n  </tbody>\n</table>\n</div>"
     },
     "metadata": {},
     "execution_count": 46
    }
   ],
   "source": [
    "combo_mean = pd.pivot_table(train, values='Item_Outlet_Sales', index = ['Outlet_Location_Type', 'Outlet_Establishment_Year'], aggfunc=np.mean)\n",
    "\n",
    "combo_mean"
   ]
  },
  {
   "cell_type": "code",
   "execution_count": 47,
   "metadata": {
    "tags": [
     "outputPrepend"
    ]
   },
   "outputs": [
    {
     "output_type": "stream",
     "name": "stderr",
     "text": [
      "here(~key, value, inplace=True)\n",
      "<ipython-input-47-1d3bf93b1d68>:13: SettingWithCopyWarning: \n",
      "A value is trying to be set on a copy of a slice from a DataFrame\n",
      "\n",
      "See the caveats in the documentation: https://pandas.pydata.org/pandas-docs/stable/user_guide/indexing.html#returning-a-view-versus-a-copy\n",
      "  test['Super_mean'][(test[s1] == i) & (test[s2]==str(j))] = train['Item_Outlet_Sales'][(train[s1] == i) & (train[s2]==str(j))].mean()\n",
      "c:\\Users\\Neelam\\Desktop\\Desktop\\Python\\Video\\env\\lib\\site-packages\\pandas\\core\\series.py:963: SettingWithCopyWarning: \n",
      "A value is trying to be set on a copy of a slice from a DataFrame\n",
      "\n",
      "See the caveats in the documentation: https://pandas.pydata.org/pandas-docs/stable/user_guide/indexing.html#returning-a-view-versus-a-copy\n",
      "  self._where(~key, value, inplace=True)\n",
      "<ipython-input-47-1d3bf93b1d68>:13: SettingWithCopyWarning: \n",
      "A value is trying to be set on a copy of a slice from a DataFrame\n",
      "\n",
      "See the caveats in the documentation: https://pandas.pydata.org/pandas-docs/stable/user_guide/indexing.html#returning-a-view-versus-a-copy\n",
      "  test['Super_mean'][(test[s1] == i) & (test[s2]==str(j))] = train['Item_Outlet_Sales'][(train[s1] == i) & (train[s2]==str(j))].mean()\n",
      "c:\\Users\\Neelam\\Desktop\\Desktop\\Python\\Video\\env\\lib\\site-packages\\pandas\\core\\series.py:963: SettingWithCopyWarning: \n",
      "A value is trying to be set on a copy of a slice from a DataFrame\n",
      "\n",
      "See the caveats in the documentation: https://pandas.pydata.org/pandas-docs/stable/user_guide/indexing.html#returning-a-view-versus-a-copy\n",
      "  self._where(~key, value, inplace=True)\n",
      "<ipython-input-47-1d3bf93b1d68>:13: SettingWithCopyWarning: \n",
      "A value is trying to be set on a copy of a slice from a DataFrame\n",
      "\n",
      "See the caveats in the documentation: https://pandas.pydata.org/pandas-docs/stable/user_guide/indexing.html#returning-a-view-versus-a-copy\n",
      "  test['Super_mean'][(test[s1] == i) & (test[s2]==str(j))] = train['Item_Outlet_Sales'][(train[s1] == i) & (train[s2]==str(j))].mean()\n",
      "c:\\Users\\Neelam\\Desktop\\Desktop\\Python\\Video\\env\\lib\\site-packages\\pandas\\core\\series.py:963: SettingWithCopyWarning: \n",
      "A value is trying to be set on a copy of a slice from a DataFrame\n",
      "\n",
      "See the caveats in the documentation: https://pandas.pydata.org/pandas-docs/stable/user_guide/indexing.html#returning-a-view-versus-a-copy\n",
      "  self._where(~key, value, inplace=True)\n",
      "<ipython-input-47-1d3bf93b1d68>:13: SettingWithCopyWarning: \n",
      "A value is trying to be set on a copy of a slice from a DataFrame\n",
      "\n",
      "See the caveats in the documentation: https://pandas.pydata.org/pandas-docs/stable/user_guide/indexing.html#returning-a-view-versus-a-copy\n",
      "  test['Super_mean'][(test[s1] == i) & (test[s2]==str(j))] = train['Item_Outlet_Sales'][(train[s1] == i) & (train[s2]==str(j))].mean()\n",
      "c:\\Users\\Neelam\\Desktop\\Desktop\\Python\\Video\\env\\lib\\site-packages\\pandas\\core\\series.py:963: SettingWithCopyWarning: \n",
      "A value is trying to be set on a copy of a slice from a DataFrame\n",
      "\n",
      "See the caveats in the documentation: https://pandas.pydata.org/pandas-docs/stable/user_guide/indexing.html#returning-a-view-versus-a-copy\n",
      "  self._where(~key, value, inplace=True)\n",
      "<ipython-input-47-1d3bf93b1d68>:13: SettingWithCopyWarning: \n",
      "A value is trying to be set on a copy of a slice from a DataFrame\n",
      "\n",
      "See the caveats in the documentation: https://pandas.pydata.org/pandas-docs/stable/user_guide/indexing.html#returning-a-view-versus-a-copy\n",
      "  test['Super_mean'][(test[s1] == i) & (test[s2]==str(j))] = train['Item_Outlet_Sales'][(train[s1] == i) & (train[s2]==str(j))].mean()\n",
      "c:\\Users\\Neelam\\Desktop\\Desktop\\Python\\Video\\env\\lib\\site-packages\\pandas\\core\\series.py:963: SettingWithCopyWarning: \n",
      "A value is trying to be set on a copy of a slice from a DataFrame\n",
      "\n",
      "See the caveats in the documentation: https://pandas.pydata.org/pandas-docs/stable/user_guide/indexing.html#returning-a-view-versus-a-copy\n",
      "  self._where(~key, value, inplace=True)\n",
      "<ipython-input-47-1d3bf93b1d68>:13: SettingWithCopyWarning: \n",
      "A value is trying to be set on a copy of a slice from a DataFrame\n",
      "\n",
      "See the caveats in the documentation: https://pandas.pydata.org/pandas-docs/stable/user_guide/indexing.html#returning-a-view-versus-a-copy\n",
      "  test['Super_mean'][(test[s1] == i) & (test[s2]==str(j))] = train['Item_Outlet_Sales'][(train[s1] == i) & (train[s2]==str(j))].mean()\n",
      "c:\\Users\\Neelam\\Desktop\\Desktop\\Python\\Video\\env\\lib\\site-packages\\pandas\\core\\series.py:963: SettingWithCopyWarning: \n",
      "A value is trying to be set on a copy of a slice from a DataFrame\n",
      "\n",
      "See the caveats in the documentation: https://pandas.pydata.org/pandas-docs/stable/user_guide/indexing.html#returning-a-view-versus-a-copy\n",
      "  self._where(~key, value, inplace=True)\n",
      "<ipython-input-47-1d3bf93b1d68>:13: SettingWithCopyWarning: \n",
      "A value is trying to be set on a copy of a slice from a DataFrame\n",
      "\n",
      "See the caveats in the documentation: https://pandas.pydata.org/pandas-docs/stable/user_guide/indexing.html#returning-a-view-versus-a-copy\n",
      "  test['Super_mean'][(test[s1] == i) & (test[s2]==str(j))] = train['Item_Outlet_Sales'][(train[s1] == i) & (train[s2]==str(j))].mean()\n",
      "c:\\Users\\Neelam\\Desktop\\Desktop\\Python\\Video\\env\\lib\\site-packages\\pandas\\core\\series.py:963: SettingWithCopyWarning: \n",
      "A value is trying to be set on a copy of a slice from a DataFrame\n",
      "\n",
      "See the caveats in the documentation: https://pandas.pydata.org/pandas-docs/stable/user_guide/indexing.html#returning-a-view-versus-a-copy\n",
      "  self._where(~key, value, inplace=True)\n",
      "<ipython-input-47-1d3bf93b1d68>:13: SettingWithCopyWarning: \n",
      "A value is trying to be set on a copy of a slice from a DataFrame\n",
      "\n",
      "See the caveats in the documentation: https://pandas.pydata.org/pandas-docs/stable/user_guide/indexing.html#returning-a-view-versus-a-copy\n",
      "  test['Super_mean'][(test[s1] == i) & (test[s2]==str(j))] = train['Item_Outlet_Sales'][(train[s1] == i) & (train[s2]==str(j))].mean()\n",
      "c:\\Users\\Neelam\\Desktop\\Desktop\\Python\\Video\\env\\lib\\site-packages\\pandas\\core\\series.py:963: SettingWithCopyWarning: \n",
      "A value is trying to be set on a copy of a slice from a DataFrame\n",
      "\n",
      "See the caveats in the documentation: https://pandas.pydata.org/pandas-docs/stable/user_guide/indexing.html#returning-a-view-versus-a-copy\n",
      "  self._where(~key, value, inplace=True)\n",
      "<ipython-input-47-1d3bf93b1d68>:13: SettingWithCopyWarning: \n",
      "A value is trying to be set on a copy of a slice from a DataFrame\n",
      "\n",
      "See the caveats in the documentation: https://pandas.pydata.org/pandas-docs/stable/user_guide/indexing.html#returning-a-view-versus-a-copy\n",
      "  test['Super_mean'][(test[s1] == i) & (test[s2]==str(j))] = train['Item_Outlet_Sales'][(train[s1] == i) & (train[s2]==str(j))].mean()\n",
      "c:\\Users\\Neelam\\Desktop\\Desktop\\Python\\Video\\env\\lib\\site-packages\\pandas\\core\\series.py:963: SettingWithCopyWarning: \n",
      "A value is trying to be set on a copy of a slice from a DataFrame\n",
      "\n",
      "See the caveats in the documentation: https://pandas.pydata.org/pandas-docs/stable/user_guide/indexing.html#returning-a-view-versus-a-copy\n",
      "  self._where(~key, value, inplace=True)\n",
      "<ipython-input-47-1d3bf93b1d68>:13: SettingWithCopyWarning: \n",
      "A value is trying to be set on a copy of a slice from a DataFrame\n",
      "\n",
      "See the caveats in the documentation: https://pandas.pydata.org/pandas-docs/stable/user_guide/indexing.html#returning-a-view-versus-a-copy\n",
      "  test['Super_mean'][(test[s1] == i) & (test[s2]==str(j))] = train['Item_Outlet_Sales'][(train[s1] == i) & (train[s2]==str(j))].mean()\n",
      "c:\\Users\\Neelam\\Desktop\\Desktop\\Python\\Video\\env\\lib\\site-packages\\pandas\\core\\series.py:963: SettingWithCopyWarning: \n",
      "A value is trying to be set on a copy of a slice from a DataFrame\n",
      "\n",
      "See the caveats in the documentation: https://pandas.pydata.org/pandas-docs/stable/user_guide/indexing.html#returning-a-view-versus-a-copy\n",
      "  self._where(~key, value, inplace=True)\n",
      "<ipython-input-47-1d3bf93b1d68>:13: SettingWithCopyWarning: \n",
      "A value is trying to be set on a copy of a slice from a DataFrame\n",
      "\n",
      "See the caveats in the documentation: https://pandas.pydata.org/pandas-docs/stable/user_guide/indexing.html#returning-a-view-versus-a-copy\n",
      "  test['Super_mean'][(test[s1] == i) & (test[s2]==str(j))] = train['Item_Outlet_Sales'][(train[s1] == i) & (train[s2]==str(j))].mean()\n",
      "c:\\Users\\Neelam\\Desktop\\Desktop\\Python\\Video\\env\\lib\\site-packages\\pandas\\core\\series.py:963: SettingWithCopyWarning: \n",
      "A value is trying to be set on a copy of a slice from a DataFrame\n",
      "\n",
      "See the caveats in the documentation: https://pandas.pydata.org/pandas-docs/stable/user_guide/indexing.html#returning-a-view-versus-a-copy\n",
      "  self._where(~key, value, inplace=True)\n",
      "<ipython-input-47-1d3bf93b1d68>:13: SettingWithCopyWarning: \n",
      "A value is trying to be set on a copy of a slice from a DataFrame\n",
      "\n",
      "See the caveats in the documentation: https://pandas.pydata.org/pandas-docs/stable/user_guide/indexing.html#returning-a-view-versus-a-copy\n",
      "  test['Super_mean'][(test[s1] == i) & (test[s2]==str(j))] = train['Item_Outlet_Sales'][(train[s1] == i) & (train[s2]==str(j))].mean()\n",
      "c:\\Users\\Neelam\\Desktop\\Desktop\\Python\\Video\\env\\lib\\site-packages\\pandas\\core\\series.py:963: SettingWithCopyWarning: \n",
      "A value is trying to be set on a copy of a slice from a DataFrame\n",
      "\n",
      "See the caveats in the documentation: https://pandas.pydata.org/pandas-docs/stable/user_guide/indexing.html#returning-a-view-versus-a-copy\n",
      "  self._where(~key, value, inplace=True)\n",
      "<ipython-input-47-1d3bf93b1d68>:13: SettingWithCopyWarning: \n",
      "A value is trying to be set on a copy of a slice from a DataFrame\n",
      "\n",
      "See the caveats in the documentation: https://pandas.pydata.org/pandas-docs/stable/user_guide/indexing.html#returning-a-view-versus-a-copy\n",
      "  test['Super_mean'][(test[s1] == i) & (test[s2]==str(j))] = train['Item_Outlet_Sales'][(train[s1] == i) & (train[s2]==str(j))].mean()\n",
      "c:\\Users\\Neelam\\Desktop\\Desktop\\Python\\Video\\env\\lib\\site-packages\\pandas\\core\\series.py:963: SettingWithCopyWarning: \n",
      "A value is trying to be set on a copy of a slice from a DataFrame\n",
      "\n",
      "See the caveats in the documentation: https://pandas.pydata.org/pandas-docs/stable/user_guide/indexing.html#returning-a-view-versus-a-copy\n",
      "  self._where(~key, value, inplace=True)\n",
      "<ipython-input-47-1d3bf93b1d68>:13: SettingWithCopyWarning: \n",
      "A value is trying to be set on a copy of a slice from a DataFrame\n",
      "\n",
      "See the caveats in the documentation: https://pandas.pydata.org/pandas-docs/stable/user_guide/indexing.html#returning-a-view-versus-a-copy\n",
      "  test['Super_mean'][(test[s1] == i) & (test[s2]==str(j))] = train['Item_Outlet_Sales'][(train[s1] == i) & (train[s2]==str(j))].mean()\n",
      "c:\\Users\\Neelam\\Desktop\\Desktop\\Python\\Video\\env\\lib\\site-packages\\pandas\\core\\series.py:963: SettingWithCopyWarning: \n",
      "A value is trying to be set on a copy of a slice from a DataFrame\n",
      "\n",
      "See the caveats in the documentation: https://pandas.pydata.org/pandas-docs/stable/user_guide/indexing.html#returning-a-view-versus-a-copy\n",
      "  self._where(~key, value, inplace=True)\n",
      "<ipython-input-47-1d3bf93b1d68>:13: SettingWithCopyWarning: \n",
      "A value is trying to be set on a copy of a slice from a DataFrame\n",
      "\n",
      "See the caveats in the documentation: https://pandas.pydata.org/pandas-docs/stable/user_guide/indexing.html#returning-a-view-versus-a-copy\n",
      "  test['Super_mean'][(test[s1] == i) & (test[s2]==str(j))] = train['Item_Outlet_Sales'][(train[s1] == i) & (train[s2]==str(j))].mean()\n",
      "c:\\Users\\Neelam\\Desktop\\Desktop\\Python\\Video\\env\\lib\\site-packages\\pandas\\core\\series.py:963: SettingWithCopyWarning: \n",
      "A value is trying to be set on a copy of a slice from a DataFrame\n",
      "\n",
      "See the caveats in the documentation: https://pandas.pydata.org/pandas-docs/stable/user_guide/indexing.html#returning-a-view-versus-a-copy\n",
      "  self._where(~key, value, inplace=True)\n",
      "<ipython-input-47-1d3bf93b1d68>:13: SettingWithCopyWarning: \n",
      "A value is trying to be set on a copy of a slice from a DataFrame\n",
      "\n",
      "See the caveats in the documentation: https://pandas.pydata.org/pandas-docs/stable/user_guide/indexing.html#returning-a-view-versus-a-copy\n",
      "  test['Super_mean'][(test[s1] == i) & (test[s2]==str(j))] = train['Item_Outlet_Sales'][(train[s1] == i) & (train[s2]==str(j))].mean()\n",
      "c:\\Users\\Neelam\\Desktop\\Desktop\\Python\\Video\\env\\lib\\site-packages\\pandas\\core\\series.py:963: SettingWithCopyWarning: \n",
      "A value is trying to be set on a copy of a slice from a DataFrame\n",
      "\n",
      "See the caveats in the documentation: https://pandas.pydata.org/pandas-docs/stable/user_guide/indexing.html#returning-a-view-versus-a-copy\n",
      "  self._where(~key, value, inplace=True)\n",
      "<ipython-input-47-1d3bf93b1d68>:13: SettingWithCopyWarning: \n",
      "A value is trying to be set on a copy of a slice from a DataFrame\n",
      "\n",
      "See the caveats in the documentation: https://pandas.pydata.org/pandas-docs/stable/user_guide/indexing.html#returning-a-view-versus-a-copy\n",
      "  test['Super_mean'][(test[s1] == i) & (test[s2]==str(j))] = train['Item_Outlet_Sales'][(train[s1] == i) & (train[s2]==str(j))].mean()\n",
      "c:\\Users\\Neelam\\Desktop\\Desktop\\Python\\Video\\env\\lib\\site-packages\\pandas\\core\\series.py:963: SettingWithCopyWarning: \n",
      "A value is trying to be set on a copy of a slice from a DataFrame\n",
      "\n",
      "See the caveats in the documentation: https://pandas.pydata.org/pandas-docs/stable/user_guide/indexing.html#returning-a-view-versus-a-copy\n",
      "  self._where(~key, value, inplace=True)\n",
      "<ipython-input-47-1d3bf93b1d68>:13: SettingWithCopyWarning: \n",
      "A value is trying to be set on a copy of a slice from a DataFrame\n",
      "\n",
      "See the caveats in the documentation: https://pandas.pydata.org/pandas-docs/stable/user_guide/indexing.html#returning-a-view-versus-a-copy\n",
      "  test['Super_mean'][(test[s1] == i) & (test[s2]==str(j))] = train['Item_Outlet_Sales'][(train[s1] == i) & (train[s2]==str(j))].mean()\n",
      "c:\\Users\\Neelam\\Desktop\\Desktop\\Python\\Video\\env\\lib\\site-packages\\pandas\\core\\series.py:963: SettingWithCopyWarning: \n",
      "A value is trying to be set on a copy of a slice from a DataFrame\n",
      "\n",
      "See the caveats in the documentation: https://pandas.pydata.org/pandas-docs/stable/user_guide/indexing.html#returning-a-view-versus-a-copy\n",
      "  self._where(~key, value, inplace=True)\n",
      "<ipython-input-47-1d3bf93b1d68>:13: SettingWithCopyWarning: \n",
      "A value is trying to be set on a copy of a slice from a DataFrame\n",
      "\n",
      "See the caveats in the documentation: https://pandas.pydata.org/pandas-docs/stable/user_guide/indexing.html#returning-a-view-versus-a-copy\n",
      "  test['Super_mean'][(test[s1] == i) & (test[s2]==str(j))] = train['Item_Outlet_Sales'][(train[s1] == i) & (train[s2]==str(j))].mean()\n",
      "c:\\Users\\Neelam\\Desktop\\Desktop\\Python\\Video\\env\\lib\\site-packages\\pandas\\core\\series.py:963: SettingWithCopyWarning: \n",
      "A value is trying to be set on a copy of a slice from a DataFrame\n",
      "\n",
      "See the caveats in the documentation: https://pandas.pydata.org/pandas-docs/stable/user_guide/indexing.html#returning-a-view-versus-a-copy\n",
      "  self._where(~key, value, inplace=True)\n",
      "<ipython-input-47-1d3bf93b1d68>:13: SettingWithCopyWarning: \n",
      "A value is trying to be set on a copy of a slice from a DataFrame\n",
      "\n",
      "See the caveats in the documentation: https://pandas.pydata.org/pandas-docs/stable/user_guide/indexing.html#returning-a-view-versus-a-copy\n",
      "  test['Super_mean'][(test[s1] == i) & (test[s2]==str(j))] = train['Item_Outlet_Sales'][(train[s1] == i) & (train[s2]==str(j))].mean()\n",
      "c:\\Users\\Neelam\\Desktop\\Desktop\\Python\\Video\\env\\lib\\site-packages\\pandas\\core\\series.py:963: SettingWithCopyWarning: \n",
      "A value is trying to be set on a copy of a slice from a DataFrame\n",
      "\n",
      "See the caveats in the documentation: https://pandas.pydata.org/pandas-docs/stable/user_guide/indexing.html#returning-a-view-versus-a-copy\n",
      "  self._where(~key, value, inplace=True)\n",
      "<ipython-input-47-1d3bf93b1d68>:13: SettingWithCopyWarning: \n",
      "A value is trying to be set on a copy of a slice from a DataFrame\n",
      "\n",
      "See the caveats in the documentation: https://pandas.pydata.org/pandas-docs/stable/user_guide/indexing.html#returning-a-view-versus-a-copy\n",
      "  test['Super_mean'][(test[s1] == i) & (test[s2]==str(j))] = train['Item_Outlet_Sales'][(train[s1] == i) & (train[s2]==str(j))].mean()\n",
      "c:\\Users\\Neelam\\Desktop\\Desktop\\Python\\Video\\env\\lib\\site-packages\\pandas\\core\\series.py:963: SettingWithCopyWarning: \n",
      "A value is trying to be set on a copy of a slice from a DataFrame\n",
      "\n",
      "See the caveats in the documentation: https://pandas.pydata.org/pandas-docs/stable/user_guide/indexing.html#returning-a-view-versus-a-copy\n",
      "  self._where(~key, value, inplace=True)\n",
      "<ipython-input-47-1d3bf93b1d68>:13: SettingWithCopyWarning: \n",
      "A value is trying to be set on a copy of a slice from a DataFrame\n",
      "\n",
      "See the caveats in the documentation: https://pandas.pydata.org/pandas-docs/stable/user_guide/indexing.html#returning-a-view-versus-a-copy\n",
      "  test['Super_mean'][(test[s1] == i) & (test[s2]==str(j))] = train['Item_Outlet_Sales'][(train[s1] == i) & (train[s2]==str(j))].mean()\n",
      "c:\\Users\\Neelam\\Desktop\\Desktop\\Python\\Video\\env\\lib\\site-packages\\pandas\\core\\series.py:963: SettingWithCopyWarning: \n",
      "A value is trying to be set on a copy of a slice from a DataFrame\n",
      "\n",
      "See the caveats in the documentation: https://pandas.pydata.org/pandas-docs/stable/user_guide/indexing.html#returning-a-view-versus-a-copy\n",
      "  self._where(~key, value, inplace=True)\n",
      "<ipython-input-47-1d3bf93b1d68>:13: SettingWithCopyWarning: \n",
      "A value is trying to be set on a copy of a slice from a DataFrame\n",
      "\n",
      "See the caveats in the documentation: https://pandas.pydata.org/pandas-docs/stable/user_guide/indexing.html#returning-a-view-versus-a-copy\n",
      "  test['Super_mean'][(test[s1] == i) & (test[s2]==str(j))] = train['Item_Outlet_Sales'][(train[s1] == i) & (train[s2]==str(j))].mean()\n",
      "c:\\Users\\Neelam\\Desktop\\Desktop\\Python\\Video\\env\\lib\\site-packages\\pandas\\core\\series.py:963: SettingWithCopyWarning: \n",
      "A value is trying to be set on a copy of a slice from a DataFrame\n",
      "\n",
      "See the caveats in the documentation: https://pandas.pydata.org/pandas-docs/stable/user_guide/indexing.html#returning-a-view-versus-a-copy\n",
      "  self._where(~key, value, inplace=True)\n",
      "<ipython-input-47-1d3bf93b1d68>:13: SettingWithCopyWarning: \n",
      "A value is trying to be set on a copy of a slice from a DataFrame\n",
      "\n",
      "See the caveats in the documentation: https://pandas.pydata.org/pandas-docs/stable/user_guide/indexing.html#returning-a-view-versus-a-copy\n",
      "  test['Super_mean'][(test[s1] == i) & (test[s2]==str(j))] = train['Item_Outlet_Sales'][(train[s1] == i) & (train[s2]==str(j))].mean()\n",
      "c:\\Users\\Neelam\\Desktop\\Desktop\\Python\\Video\\env\\lib\\site-packages\\pandas\\core\\series.py:963: SettingWithCopyWarning: \n",
      "A value is trying to be set on a copy of a slice from a DataFrame\n",
      "\n",
      "See the caveats in the documentation: https://pandas.pydata.org/pandas-docs/stable/user_guide/indexing.html#returning-a-view-versus-a-copy\n",
      "  self._where(~key, value, inplace=True)\n",
      "<ipython-input-47-1d3bf93b1d68>:13: SettingWithCopyWarning: \n",
      "A value is trying to be set on a copy of a slice from a DataFrame\n",
      "\n",
      "See the caveats in the documentation: https://pandas.pydata.org/pandas-docs/stable/user_guide/indexing.html#returning-a-view-versus-a-copy\n",
      "  test['Super_mean'][(test[s1] == i) & (test[s2]==str(j))] = train['Item_Outlet_Sales'][(train[s1] == i) & (train[s2]==str(j))].mean()\n",
      "c:\\Users\\Neelam\\Desktop\\Desktop\\Python\\Video\\env\\lib\\site-packages\\pandas\\core\\series.py:963: SettingWithCopyWarning: \n",
      "A value is trying to be set on a copy of a slice from a DataFrame\n",
      "\n",
      "See the caveats in the documentation: https://pandas.pydata.org/pandas-docs/stable/user_guide/indexing.html#returning-a-view-versus-a-copy\n",
      "  self._where(~key, value, inplace=True)\n",
      "<ipython-input-47-1d3bf93b1d68>:13: SettingWithCopyWarning: \n",
      "A value is trying to be set on a copy of a slice from a DataFrame\n",
      "\n",
      "See the caveats in the documentation: https://pandas.pydata.org/pandas-docs/stable/user_guide/indexing.html#returning-a-view-versus-a-copy\n",
      "  test['Super_mean'][(test[s1] == i) & (test[s2]==str(j))] = train['Item_Outlet_Sales'][(train[s1] == i) & (train[s2]==str(j))].mean()\n",
      "c:\\Users\\Neelam\\Desktop\\Desktop\\Python\\Video\\env\\lib\\site-packages\\pandas\\core\\series.py:963: SettingWithCopyWarning: \n",
      "A value is trying to be set on a copy of a slice from a DataFrame\n",
      "\n",
      "See the caveats in the documentation: https://pandas.pydata.org/pandas-docs/stable/user_guide/indexing.html#returning-a-view-versus-a-copy\n",
      "  self._where(~key, value, inplace=True)\n"
     ]
    }
   ],
   "source": [
    "# Initiating new empty column\n",
    "test['Super_mean'] = 0\n",
    "\n",
    "# Assigning variables to strings ( to shorten code length)\n",
    "s2 = 'Outlet_Location_Type'\n",
    "s1 = 'Outlet_Establishment_Year'\n",
    "\n",
    "# For every Unique Value in s1\n",
    "for i in test[s1].unique():\n",
    "  # For every Unique Value in s2\n",
    "  for j in test[s2].unique():\n",
    "    # Calculate and Assign mean to new column, corresponding to both unique values of s1 and s2 simultaneously\n",
    "    test['Super_mean'][(test[s1] == i) & (test[s2]==str(j))] = train['Item_Outlet_Sales'][(train[s1] == i) & (train[s2]==str(j))].mean()"
   ]
  },
  {
   "cell_type": "code",
   "execution_count": 48,
   "metadata": {},
   "outputs": [
    {
     "output_type": "execute_result",
     "data": {
      "text/plain": [
       "1118.0230715619844"
      ]
     },
     "metadata": {},
     "execution_count": 48
    }
   ],
   "source": [
    "#calculating mean absolute error\n",
    "super_mean_error = MAE(test['Item_Outlet_Sales'] , test['Super_mean'] )\n",
    "super_mean_error"
   ]
  },
  {
   "source": [
    "# Classification Benchmark\n",
    "\n",
    "### Probem Example (Classification) - Titanic:\n",
    "To predict wether a passenger of titanic would have survived or not?\n",
    "\n",
    "Good point to start: Mode\n",
    "\n",
    "To Evaluate: Accuracy - Correctly predict observation upon total observation\n"
   ],
   "cell_type": "markdown",
   "metadata": {}
  },
  {
   "cell_type": "code",
   "execution_count": 50,
   "metadata": {},
   "outputs": [],
   "source": [
    "#importing libraries \n",
    "import pandas as pd \n",
    "import numpy as np\n",
    "from sklearn.metrics import accuracy_score"
   ]
  },
  {
   "cell_type": "code",
   "execution_count": 54,
   "metadata": {},
   "outputs": [
    {
     "output_type": "execute_result",
     "data": {
      "text/plain": [
       "(891, 12)"
      ]
     },
     "metadata": {},
     "execution_count": 54
    }
   ],
   "source": [
    "data2 = pd.read_csv(\"train.csv\")\n",
    "data2.shape"
   ]
  },
  {
   "cell_type": "code",
   "execution_count": 60,
   "metadata": {},
   "outputs": [
    {
     "output_type": "execute_result",
     "data": {
      "text/plain": [
       "   PassengerId  Survived  Pclass  \\\n",
       "0            1         0       3   \n",
       "1            2         1       1   \n",
       "2            3         1       3   \n",
       "3            4         1       1   \n",
       "4            5         0       3   \n",
       "\n",
       "                                                Name     Sex   Age  SibSp  \\\n",
       "0                            Braund, Mr. Owen Harris    male  22.0      1   \n",
       "1  Cumings, Mrs. John Bradley (Florence Briggs Th...  female  38.0      1   \n",
       "2                             Heikkinen, Miss. Laina  female  26.0      0   \n",
       "3       Futrelle, Mrs. Jacques Heath (Lily May Peel)  female  35.0      1   \n",
       "4                           Allen, Mr. William Henry    male  35.0      0   \n",
       "\n",
       "   Parch            Ticket     Fare Cabin Embarked  \n",
       "0      0         A/5 21171   7.2500   NaN        S  \n",
       "1      0          PC 17599  71.2833   C85        C  \n",
       "2      0  STON/O2. 3101282   7.9250   NaN        S  \n",
       "3      0            113803  53.1000  C123        S  \n",
       "4      0            373450   8.0500   NaN        S  "
      ],
      "text/html": "<div>\n<style scoped>\n    .dataframe tbody tr th:only-of-type {\n        vertical-align: middle;\n    }\n\n    .dataframe tbody tr th {\n        vertical-align: top;\n    }\n\n    .dataframe thead th {\n        text-align: right;\n    }\n</style>\n<table border=\"1\" class=\"dataframe\">\n  <thead>\n    <tr style=\"text-align: right;\">\n      <th></th>\n      <th>PassengerId</th>\n      <th>Survived</th>\n      <th>Pclass</th>\n      <th>Name</th>\n      <th>Sex</th>\n      <th>Age</th>\n      <th>SibSp</th>\n      <th>Parch</th>\n      <th>Ticket</th>\n      <th>Fare</th>\n      <th>Cabin</th>\n      <th>Embarked</th>\n    </tr>\n  </thead>\n  <tbody>\n    <tr>\n      <th>0</th>\n      <td>1</td>\n      <td>0</td>\n      <td>3</td>\n      <td>Braund, Mr. Owen Harris</td>\n      <td>male</td>\n      <td>22.0</td>\n      <td>1</td>\n      <td>0</td>\n      <td>A/5 21171</td>\n      <td>7.2500</td>\n      <td>NaN</td>\n      <td>S</td>\n    </tr>\n    <tr>\n      <th>1</th>\n      <td>2</td>\n      <td>1</td>\n      <td>1</td>\n      <td>Cumings, Mrs. John Bradley (Florence Briggs Th...</td>\n      <td>female</td>\n      <td>38.0</td>\n      <td>1</td>\n      <td>0</td>\n      <td>PC 17599</td>\n      <td>71.2833</td>\n      <td>C85</td>\n      <td>C</td>\n    </tr>\n    <tr>\n      <th>2</th>\n      <td>3</td>\n      <td>1</td>\n      <td>3</td>\n      <td>Heikkinen, Miss. Laina</td>\n      <td>female</td>\n      <td>26.0</td>\n      <td>0</td>\n      <td>0</td>\n      <td>STON/O2. 3101282</td>\n      <td>7.9250</td>\n      <td>NaN</td>\n      <td>S</td>\n    </tr>\n    <tr>\n      <th>3</th>\n      <td>4</td>\n      <td>1</td>\n      <td>1</td>\n      <td>Futrelle, Mrs. Jacques Heath (Lily May Peel)</td>\n      <td>female</td>\n      <td>35.0</td>\n      <td>1</td>\n      <td>0</td>\n      <td>113803</td>\n      <td>53.1000</td>\n      <td>C123</td>\n      <td>S</td>\n    </tr>\n    <tr>\n      <th>4</th>\n      <td>5</td>\n      <td>0</td>\n      <td>3</td>\n      <td>Allen, Mr. William Henry</td>\n      <td>male</td>\n      <td>35.0</td>\n      <td>0</td>\n      <td>0</td>\n      <td>373450</td>\n      <td>8.0500</td>\n      <td>NaN</td>\n      <td>S</td>\n    </tr>\n  </tbody>\n</table>\n</div>"
     },
     "metadata": {},
     "execution_count": 60
    }
   ],
   "source": [
    "data2.head()"
   ]
  },
  {
   "cell_type": "code",
   "execution_count": 62,
   "metadata": {},
   "outputs": [
    {
     "output_type": "execute_result",
     "data": {
      "text/plain": [
       "PassengerId      0\n",
       "Survived         0\n",
       "Pclass           0\n",
       "Name             0\n",
       "Sex              0\n",
       "Age            177\n",
       "SibSp            0\n",
       "Parch            0\n",
       "Ticket           0\n",
       "Fare             0\n",
       "Cabin          687\n",
       "Embarked         2\n",
       "dtype: int64"
      ]
     },
     "metadata": {},
     "execution_count": 62
    }
   ],
   "source": [
    "data2.isnull().sum()"
   ]
  },
  {
   "source": [
    "### Shuffling and Creating Train and Test Set"
   ],
   "cell_type": "markdown",
   "metadata": {}
  },
  {
   "cell_type": "code",
   "execution_count": 63,
   "metadata": {},
   "outputs": [
    {
     "output_type": "execute_result",
     "data": {
      "text/plain": [
       "((621, 12), (271, 12))"
      ]
     },
     "metadata": {},
     "execution_count": 63
    }
   ],
   "source": [
    "from sklearn.utils import shuffle\n",
    "\n",
    "# Shuffling the Dataset\n",
    "data2 = shuffle(data2, random_state = 42)\n",
    "\n",
    "#creating 4 divisions\n",
    "div = int(data2.shape[0]/4)\n",
    "\n",
    "# 3 parts to train set and 1 part to test set\n",
    "train2 = data2.loc[:3*div+1,:]\n",
    "test2 = data2.loc[3*div+1:]\n",
    "\n",
    "train2.shape, test2.shape"
   ]
  },
  {
   "source": [
    "## Simple Mode"
   ],
   "cell_type": "markdown",
   "metadata": {}
  },
  {
   "cell_type": "code",
   "execution_count": 65,
   "metadata": {},
   "outputs": [
    {
     "output_type": "execute_result",
     "data": {
      "text/plain": [
       "     PassengerId  Survived  Pclass  \\\n",
       "709          710         1       3   \n",
       "439          440         0       2   \n",
       "840          841         0       3   \n",
       "720          721         1       2   \n",
       "39            40         1       3   \n",
       "\n",
       "                                                  Name     Sex   Age  SibSp  \\\n",
       "709  Moubarek, Master. Halim Gonios (\"William George\")    male   NaN      1   \n",
       "439             Kvillner, Mr. Johan Henrik Johannesson    male  31.0      0   \n",
       "840                        Alhomaki, Mr. Ilmari Rudolf    male  20.0      0   \n",
       "720                  Harper, Miss. Annie Jessie \"Nina\"  female   6.0      0   \n",
       "39                         Nicola-Yarred, Miss. Jamila  female  14.0      1   \n",
       "\n",
       "     Parch            Ticket     Fare Cabin Embarked  \n",
       "709      1              2661  15.2458   NaN        C  \n",
       "439      0        C.A. 18723  10.5000   NaN        S  \n",
       "840      0  SOTON/O2 3101287   7.9250   NaN        S  \n",
       "720      1            248727  33.0000   NaN        S  \n",
       "39       0              2651  11.2417   NaN        C  "
      ],
      "text/html": "<div>\n<style scoped>\n    .dataframe tbody tr th:only-of-type {\n        vertical-align: middle;\n    }\n\n    .dataframe tbody tr th {\n        vertical-align: top;\n    }\n\n    .dataframe thead th {\n        text-align: right;\n    }\n</style>\n<table border=\"1\" class=\"dataframe\">\n  <thead>\n    <tr style=\"text-align: right;\">\n      <th></th>\n      <th>PassengerId</th>\n      <th>Survived</th>\n      <th>Pclass</th>\n      <th>Name</th>\n      <th>Sex</th>\n      <th>Age</th>\n      <th>SibSp</th>\n      <th>Parch</th>\n      <th>Ticket</th>\n      <th>Fare</th>\n      <th>Cabin</th>\n      <th>Embarked</th>\n    </tr>\n  </thead>\n  <tbody>\n    <tr>\n      <th>709</th>\n      <td>710</td>\n      <td>1</td>\n      <td>3</td>\n      <td>Moubarek, Master. Halim Gonios (\"William George\")</td>\n      <td>male</td>\n      <td>NaN</td>\n      <td>1</td>\n      <td>1</td>\n      <td>2661</td>\n      <td>15.2458</td>\n      <td>NaN</td>\n      <td>C</td>\n    </tr>\n    <tr>\n      <th>439</th>\n      <td>440</td>\n      <td>0</td>\n      <td>2</td>\n      <td>Kvillner, Mr. Johan Henrik Johannesson</td>\n      <td>male</td>\n      <td>31.0</td>\n      <td>0</td>\n      <td>0</td>\n      <td>C.A. 18723</td>\n      <td>10.5000</td>\n      <td>NaN</td>\n      <td>S</td>\n    </tr>\n    <tr>\n      <th>840</th>\n      <td>841</td>\n      <td>0</td>\n      <td>3</td>\n      <td>Alhomaki, Mr. Ilmari Rudolf</td>\n      <td>male</td>\n      <td>20.0</td>\n      <td>0</td>\n      <td>0</td>\n      <td>SOTON/O2 3101287</td>\n      <td>7.9250</td>\n      <td>NaN</td>\n      <td>S</td>\n    </tr>\n    <tr>\n      <th>720</th>\n      <td>721</td>\n      <td>1</td>\n      <td>2</td>\n      <td>Harper, Miss. Annie Jessie \"Nina\"</td>\n      <td>female</td>\n      <td>6.0</td>\n      <td>0</td>\n      <td>1</td>\n      <td>248727</td>\n      <td>33.0000</td>\n      <td>NaN</td>\n      <td>S</td>\n    </tr>\n    <tr>\n      <th>39</th>\n      <td>40</td>\n      <td>1</td>\n      <td>3</td>\n      <td>Nicola-Yarred, Miss. Jamila</td>\n      <td>female</td>\n      <td>14.0</td>\n      <td>1</td>\n      <td>0</td>\n      <td>2651</td>\n      <td>11.2417</td>\n      <td>NaN</td>\n      <td>C</td>\n    </tr>\n  </tbody>\n</table>\n</div>"
     },
     "metadata": {},
     "execution_count": 65
    }
   ],
   "source": [
    "train2.head()"
   ]
  },
  {
   "cell_type": "code",
   "execution_count": 77,
   "metadata": {},
   "outputs": [
    {
     "output_type": "stream",
     "name": "stderr",
     "text": [
      "<ipython-input-77-17fb17d18d11>:1: SettingWithCopyWarning: \nA value is trying to be set on a copy of a slice from a DataFrame.\nTry using .loc[row_indexer,col_indexer] = value instead\n\nSee the caveats in the documentation: https://pandas.pydata.org/pandas-docs/stable/user_guide/indexing.html#returning-a-view-versus-a-copy\n  test2['simple_mode'] = train2['Survived'].mode()[0]\n"
     ]
    }
   ],
   "source": [
    "test2['simple_mode'] = train2['Survived'].mode()[0]"
   ]
  },
  {
   "cell_type": "code",
   "execution_count": 75,
   "metadata": {},
   "outputs": [
    {
     "output_type": "execute_result",
     "data": {
      "text/plain": [
       "     PassengerId  Survived  Pclass  \\\n",
       "667          668         0       3   \n",
       "571          572         1       1   \n",
       "636          637         0       3   \n",
       "714          715         0       2   \n",
       "262          263         0       1   \n",
       "\n",
       "                                              Name     Sex   Age  SibSp  \\\n",
       "667                     Rommetvedt, Mr. Knud Paust    male   NaN      0   \n",
       "571  Appleton, Mrs. Edward Dale (Charlotte Lamson)  female  53.0      2   \n",
       "636                     Leinonen, Mr. Antti Gustaf    male  32.0      0   \n",
       "714                          Greenberg, Mr. Samuel    male  52.0      0   \n",
       "262                              Taussig, Mr. Emil    male  52.0      1   \n",
       "\n",
       "     Parch             Ticket     Fare Cabin Embarked  simple_mode  \n",
       "667      0             312993   7.7750   NaN        S            0  \n",
       "571      0              11769  51.4792  C101        S            0  \n",
       "636      0  STON/O 2. 3101292   7.9250   NaN        S            0  \n",
       "714      0             250647  13.0000   NaN        S            0  \n",
       "262      1             110413  79.6500   E67        S            0  "
      ],
      "text/html": "<div>\n<style scoped>\n    .dataframe tbody tr th:only-of-type {\n        vertical-align: middle;\n    }\n\n    .dataframe tbody tr th {\n        vertical-align: top;\n    }\n\n    .dataframe thead th {\n        text-align: right;\n    }\n</style>\n<table border=\"1\" class=\"dataframe\">\n  <thead>\n    <tr style=\"text-align: right;\">\n      <th></th>\n      <th>PassengerId</th>\n      <th>Survived</th>\n      <th>Pclass</th>\n      <th>Name</th>\n      <th>Sex</th>\n      <th>Age</th>\n      <th>SibSp</th>\n      <th>Parch</th>\n      <th>Ticket</th>\n      <th>Fare</th>\n      <th>Cabin</th>\n      <th>Embarked</th>\n      <th>simple_mode</th>\n    </tr>\n  </thead>\n  <tbody>\n    <tr>\n      <th>667</th>\n      <td>668</td>\n      <td>0</td>\n      <td>3</td>\n      <td>Rommetvedt, Mr. Knud Paust</td>\n      <td>male</td>\n      <td>NaN</td>\n      <td>0</td>\n      <td>0</td>\n      <td>312993</td>\n      <td>7.7750</td>\n      <td>NaN</td>\n      <td>S</td>\n      <td>0</td>\n    </tr>\n    <tr>\n      <th>571</th>\n      <td>572</td>\n      <td>1</td>\n      <td>1</td>\n      <td>Appleton, Mrs. Edward Dale (Charlotte Lamson)</td>\n      <td>female</td>\n      <td>53.0</td>\n      <td>2</td>\n      <td>0</td>\n      <td>11769</td>\n      <td>51.4792</td>\n      <td>C101</td>\n      <td>S</td>\n      <td>0</td>\n    </tr>\n    <tr>\n      <th>636</th>\n      <td>637</td>\n      <td>0</td>\n      <td>3</td>\n      <td>Leinonen, Mr. Antti Gustaf</td>\n      <td>male</td>\n      <td>32.0</td>\n      <td>0</td>\n      <td>0</td>\n      <td>STON/O 2. 3101292</td>\n      <td>7.9250</td>\n      <td>NaN</td>\n      <td>S</td>\n      <td>0</td>\n    </tr>\n    <tr>\n      <th>714</th>\n      <td>715</td>\n      <td>0</td>\n      <td>2</td>\n      <td>Greenberg, Mr. Samuel</td>\n      <td>male</td>\n      <td>52.0</td>\n      <td>0</td>\n      <td>0</td>\n      <td>250647</td>\n      <td>13.0000</td>\n      <td>NaN</td>\n      <td>S</td>\n      <td>0</td>\n    </tr>\n    <tr>\n      <th>262</th>\n      <td>263</td>\n      <td>0</td>\n      <td>1</td>\n      <td>Taussig, Mr. Emil</td>\n      <td>male</td>\n      <td>52.0</td>\n      <td>1</td>\n      <td>1</td>\n      <td>110413</td>\n      <td>79.6500</td>\n      <td>E67</td>\n      <td>S</td>\n      <td>0</td>\n    </tr>\n  </tbody>\n</table>\n</div>"
     },
     "metadata": {},
     "execution_count": 75
    }
   ],
   "source": [
    "test2.head()"
   ]
  },
  {
   "cell_type": "code",
   "execution_count": 78,
   "metadata": {},
   "outputs": [
    {
     "output_type": "execute_result",
     "data": {
      "text/plain": [
       "0.6346863468634686"
      ]
     },
     "metadata": {},
     "execution_count": 78
    }
   ],
   "source": [
    "simple_mode_accuracy = accuracy_score(test2.Survived, test2.simple_mode)\n",
    "simple_mode_accuracy"
   ]
  },
  {
   "source": [
    "## Mode based on gender"
   ],
   "cell_type": "markdown",
   "metadata": {}
  },
  {
   "cell_type": "code",
   "execution_count": 81,
   "metadata": {},
   "outputs": [
    {
     "output_type": "execute_result",
     "data": {
      "text/plain": [
       "Sex       female  male\n",
       "Survived              \n",
       "0             57   321\n",
       "1            167    76"
      ],
      "text/html": "<div>\n<style scoped>\n    .dataframe tbody tr th:only-of-type {\n        vertical-align: middle;\n    }\n\n    .dataframe tbody tr th {\n        vertical-align: top;\n    }\n\n    .dataframe thead th {\n        text-align: right;\n    }\n</style>\n<table border=\"1\" class=\"dataframe\">\n  <thead>\n    <tr style=\"text-align: right;\">\n      <th>Sex</th>\n      <th>female</th>\n      <th>male</th>\n    </tr>\n    <tr>\n      <th>Survived</th>\n      <th></th>\n      <th></th>\n    </tr>\n  </thead>\n  <tbody>\n    <tr>\n      <th>0</th>\n      <td>57</td>\n      <td>321</td>\n    </tr>\n    <tr>\n      <th>1</th>\n      <td>167</td>\n      <td>76</td>\n    </tr>\n  </tbody>\n</table>\n</div>"
     },
     "metadata": {},
     "execution_count": 81
    }
   ],
   "source": [
    "gender_mode = pd.crosstab(train2.Survived, train2.Sex)\n",
    "gender_mode"
   ]
  },
  {
   "cell_type": "code",
   "execution_count": 89,
   "metadata": {},
   "outputs": [
    {
     "output_type": "stream",
     "name": "stdout",
     "text": [
      "male\n",
      "female\n",
      "<ipython-input-89-0c8e59fbd1bf>:1: SettingWithCopyWarning: \n",
      "A value is trying to be set on a copy of a slice from a DataFrame.\n",
      "Try using .loc[row_indexer,col_indexer] = value instead\n",
      "\n",
      "See the caveats in the documentation: https://pandas.pydata.org/pandas-docs/stable/user_guide/indexing.html#returning-a-view-versus-a-copy\n",
      "  test2['gender_mode'] = test2.Survived\n",
      "<ipython-input-89-0c8e59fbd1bf>:5: SettingWithCopyWarning: \n",
      "A value is trying to be set on a copy of a slice from a DataFrame\n",
      "\n",
      "See the caveats in the documentation: https://pandas.pydata.org/pandas-docs/stable/user_guide/indexing.html#returning-a-view-versus-a-copy\n",
      "  test2['gender_mode'][test2.Sex == str(i)] = train2['Survived'][train2.Sex == str(i)].mode()[0]\n"
     ]
    }
   ],
   "source": [
    "test2['gender_mode'] = test2.Survived\n",
    "\n",
    "#for every unique value in the columns\n",
    "for i in test2.Sex.unique():\n",
    "    test2['gender_mode'][test2.Sex == str(i)] = train2['Survived'][train2.Sex == str(i)].mode()[0]\n"
   ]
  },
  {
   "cell_type": "code",
   "execution_count": 114,
   "metadata": {},
   "outputs": [
    {
     "output_type": "execute_result",
     "data": {
      "text/plain": [
       "     PassengerId  Survived  Pclass  \\\n",
       "571          572         1       1   \n",
       "610          611         0       3   \n",
       "297          298         0       1   \n",
       "147          148         0       3   \n",
       "325          326         1       1   \n",
       "\n",
       "                                                  Name     Sex   Age  SibSp  \\\n",
       "571      Appleton, Mrs. Edward Dale (Charlotte Lamson)  female  53.0      2   \n",
       "610  Andersson, Mrs. Anders Johan (Alfrida Konstant...  female  39.0      1   \n",
       "297                       Allison, Miss. Helen Loraine  female   2.0      1   \n",
       "147                   Ford, Miss. Robina Maggie \"Ruby\"  female   9.0      2   \n",
       "325                           Young, Miss. Marie Grice  female  36.0      0   \n",
       "\n",
       "     Parch      Ticket      Fare    Cabin Embarked  simple_mode  gender_mode  \\\n",
       "571      0       11769   51.4792     C101        S            0            1   \n",
       "610      5      347082   31.2750      NaN        S            0            1   \n",
       "297      2      113781  151.5500  C22 C26        S            0            1   \n",
       "147      2  W./C. 6608   34.3750      NaN        S            0            1   \n",
       "325      0    PC 17760  135.6333      C32        C            0            1   \n",
       "\n",
       "     pclass_mode  \n",
       "571            0  \n",
       "610            0  \n",
       "297            0  \n",
       "147            0  \n",
       "325            0  "
      ],
      "text/html": "<div>\n<style scoped>\n    .dataframe tbody tr th:only-of-type {\n        vertical-align: middle;\n    }\n\n    .dataframe tbody tr th {\n        vertical-align: top;\n    }\n\n    .dataframe thead th {\n        text-align: right;\n    }\n</style>\n<table border=\"1\" class=\"dataframe\">\n  <thead>\n    <tr style=\"text-align: right;\">\n      <th></th>\n      <th>PassengerId</th>\n      <th>Survived</th>\n      <th>Pclass</th>\n      <th>Name</th>\n      <th>Sex</th>\n      <th>Age</th>\n      <th>SibSp</th>\n      <th>Parch</th>\n      <th>Ticket</th>\n      <th>Fare</th>\n      <th>Cabin</th>\n      <th>Embarked</th>\n      <th>simple_mode</th>\n      <th>gender_mode</th>\n      <th>pclass_mode</th>\n    </tr>\n  </thead>\n  <tbody>\n    <tr>\n      <th>571</th>\n      <td>572</td>\n      <td>1</td>\n      <td>1</td>\n      <td>Appleton, Mrs. Edward Dale (Charlotte Lamson)</td>\n      <td>female</td>\n      <td>53.0</td>\n      <td>2</td>\n      <td>0</td>\n      <td>11769</td>\n      <td>51.4792</td>\n      <td>C101</td>\n      <td>S</td>\n      <td>0</td>\n      <td>1</td>\n      <td>0</td>\n    </tr>\n    <tr>\n      <th>610</th>\n      <td>611</td>\n      <td>0</td>\n      <td>3</td>\n      <td>Andersson, Mrs. Anders Johan (Alfrida Konstant...</td>\n      <td>female</td>\n      <td>39.0</td>\n      <td>1</td>\n      <td>5</td>\n      <td>347082</td>\n      <td>31.2750</td>\n      <td>NaN</td>\n      <td>S</td>\n      <td>0</td>\n      <td>1</td>\n      <td>0</td>\n    </tr>\n    <tr>\n      <th>297</th>\n      <td>298</td>\n      <td>0</td>\n      <td>1</td>\n      <td>Allison, Miss. Helen Loraine</td>\n      <td>female</td>\n      <td>2.0</td>\n      <td>1</td>\n      <td>2</td>\n      <td>113781</td>\n      <td>151.5500</td>\n      <td>C22 C26</td>\n      <td>S</td>\n      <td>0</td>\n      <td>1</td>\n      <td>0</td>\n    </tr>\n    <tr>\n      <th>147</th>\n      <td>148</td>\n      <td>0</td>\n      <td>3</td>\n      <td>Ford, Miss. Robina Maggie \"Ruby\"</td>\n      <td>female</td>\n      <td>9.0</td>\n      <td>2</td>\n      <td>2</td>\n      <td>W./C. 6608</td>\n      <td>34.3750</td>\n      <td>NaN</td>\n      <td>S</td>\n      <td>0</td>\n      <td>1</td>\n      <td>0</td>\n    </tr>\n    <tr>\n      <th>325</th>\n      <td>326</td>\n      <td>1</td>\n      <td>1</td>\n      <td>Young, Miss. Marie Grice</td>\n      <td>female</td>\n      <td>36.0</td>\n      <td>0</td>\n      <td>0</td>\n      <td>PC 17760</td>\n      <td>135.6333</td>\n      <td>C32</td>\n      <td>C</td>\n      <td>0</td>\n      <td>1</td>\n      <td>0</td>\n    </tr>\n  </tbody>\n</table>\n</div>"
     },
     "metadata": {},
     "execution_count": 114
    }
   ],
   "source": [
    "test2[test2['Sex'] == \"female\"].head()"
   ]
  },
  {
   "cell_type": "code",
   "execution_count": 83,
   "metadata": {},
   "outputs": [
    {
     "output_type": "execute_result",
     "data": {
      "text/plain": [
       "0.7896678966789668"
      ]
     },
     "metadata": {},
     "execution_count": 83
    }
   ],
   "source": [
    "gender_mode_accuracy = accuracy_score(test2.Survived, test2.gender_mode)\n",
    "gender_mode_accuracy"
   ]
  },
  {
   "source": [
    "So, by using just gender's mode, the accuracy jumped from 0.63 to 0.78."
   ],
   "cell_type": "markdown",
   "metadata": {}
  },
  {
   "source": [
    "### Lets check other variables for identifying which can be used to mode in prediction"
   ],
   "cell_type": "markdown",
   "metadata": {}
  },
  {
   "cell_type": "code",
   "execution_count": 90,
   "metadata": {},
   "outputs": [
    {
     "output_type": "execute_result",
     "data": {
      "text/plain": [
       "     PassengerId  Survived  Pclass  \\\n",
       "709          710         1       3   \n",
       "439          440         0       2   \n",
       "840          841         0       3   \n",
       "720          721         1       2   \n",
       "39            40         1       3   \n",
       "\n",
       "                                                  Name     Sex   Age  SibSp  \\\n",
       "709  Moubarek, Master. Halim Gonios (\"William George\")    male   NaN      1   \n",
       "439             Kvillner, Mr. Johan Henrik Johannesson    male  31.0      0   \n",
       "840                        Alhomaki, Mr. Ilmari Rudolf    male  20.0      0   \n",
       "720                  Harper, Miss. Annie Jessie \"Nina\"  female   6.0      0   \n",
       "39                         Nicola-Yarred, Miss. Jamila  female  14.0      1   \n",
       "\n",
       "     Parch            Ticket     Fare Cabin Embarked  \n",
       "709      1              2661  15.2458   NaN        C  \n",
       "439      0        C.A. 18723  10.5000   NaN        S  \n",
       "840      0  SOTON/O2 3101287   7.9250   NaN        S  \n",
       "720      1            248727  33.0000   NaN        S  \n",
       "39       0              2651  11.2417   NaN        C  "
      ],
      "text/html": "<div>\n<style scoped>\n    .dataframe tbody tr th:only-of-type {\n        vertical-align: middle;\n    }\n\n    .dataframe tbody tr th {\n        vertical-align: top;\n    }\n\n    .dataframe thead th {\n        text-align: right;\n    }\n</style>\n<table border=\"1\" class=\"dataframe\">\n  <thead>\n    <tr style=\"text-align: right;\">\n      <th></th>\n      <th>PassengerId</th>\n      <th>Survived</th>\n      <th>Pclass</th>\n      <th>Name</th>\n      <th>Sex</th>\n      <th>Age</th>\n      <th>SibSp</th>\n      <th>Parch</th>\n      <th>Ticket</th>\n      <th>Fare</th>\n      <th>Cabin</th>\n      <th>Embarked</th>\n    </tr>\n  </thead>\n  <tbody>\n    <tr>\n      <th>709</th>\n      <td>710</td>\n      <td>1</td>\n      <td>3</td>\n      <td>Moubarek, Master. Halim Gonios (\"William George\")</td>\n      <td>male</td>\n      <td>NaN</td>\n      <td>1</td>\n      <td>1</td>\n      <td>2661</td>\n      <td>15.2458</td>\n      <td>NaN</td>\n      <td>C</td>\n    </tr>\n    <tr>\n      <th>439</th>\n      <td>440</td>\n      <td>0</td>\n      <td>2</td>\n      <td>Kvillner, Mr. Johan Henrik Johannesson</td>\n      <td>male</td>\n      <td>31.0</td>\n      <td>0</td>\n      <td>0</td>\n      <td>C.A. 18723</td>\n      <td>10.5000</td>\n      <td>NaN</td>\n      <td>S</td>\n    </tr>\n    <tr>\n      <th>840</th>\n      <td>841</td>\n      <td>0</td>\n      <td>3</td>\n      <td>Alhomaki, Mr. Ilmari Rudolf</td>\n      <td>male</td>\n      <td>20.0</td>\n      <td>0</td>\n      <td>0</td>\n      <td>SOTON/O2 3101287</td>\n      <td>7.9250</td>\n      <td>NaN</td>\n      <td>S</td>\n    </tr>\n    <tr>\n      <th>720</th>\n      <td>721</td>\n      <td>1</td>\n      <td>2</td>\n      <td>Harper, Miss. Annie Jessie \"Nina\"</td>\n      <td>female</td>\n      <td>6.0</td>\n      <td>0</td>\n      <td>1</td>\n      <td>248727</td>\n      <td>33.0000</td>\n      <td>NaN</td>\n      <td>S</td>\n    </tr>\n    <tr>\n      <th>39</th>\n      <td>40</td>\n      <td>1</td>\n      <td>3</td>\n      <td>Nicola-Yarred, Miss. Jamila</td>\n      <td>female</td>\n      <td>14.0</td>\n      <td>1</td>\n      <td>0</td>\n      <td>2651</td>\n      <td>11.2417</td>\n      <td>NaN</td>\n      <td>C</td>\n    </tr>\n  </tbody>\n</table>\n</div>"
     },
     "metadata": {},
     "execution_count": 90
    }
   ],
   "source": [
    "train2.head()"
   ]
  },
  {
   "source": [
    "## Mode in Pclass"
   ],
   "cell_type": "markdown",
   "metadata": {}
  },
  {
   "cell_type": "code",
   "execution_count": 91,
   "metadata": {},
   "outputs": [
    {
     "output_type": "execute_result",
     "data": {
      "text/plain": [
       "Survived    0   1\n",
       "Pclass           \n",
       "1          50  97\n",
       "2          66  65\n",
       "3         262  81"
      ],
      "text/html": "<div>\n<style scoped>\n    .dataframe tbody tr th:only-of-type {\n        vertical-align: middle;\n    }\n\n    .dataframe tbody tr th {\n        vertical-align: top;\n    }\n\n    .dataframe thead th {\n        text-align: right;\n    }\n</style>\n<table border=\"1\" class=\"dataframe\">\n  <thead>\n    <tr style=\"text-align: right;\">\n      <th>Survived</th>\n      <th>0</th>\n      <th>1</th>\n    </tr>\n    <tr>\n      <th>Pclass</th>\n      <th></th>\n      <th></th>\n    </tr>\n  </thead>\n  <tbody>\n    <tr>\n      <th>1</th>\n      <td>50</td>\n      <td>97</td>\n    </tr>\n    <tr>\n      <th>2</th>\n      <td>66</td>\n      <td>65</td>\n    </tr>\n    <tr>\n      <th>3</th>\n      <td>262</td>\n      <td>81</td>\n    </tr>\n  </tbody>\n</table>\n</div>"
     },
     "metadata": {},
     "execution_count": 91
    }
   ],
   "source": [
    "#lets check Pclass\n",
    "\n",
    "pclass_mode = pd.crosstab(train2.Pclass, train2.Survived)\n",
    "pclass_mode"
   ]
  },
  {
   "cell_type": "code",
   "execution_count": 127,
   "metadata": {},
   "outputs": [
    {
     "output_type": "stream",
     "name": "stderr",
     "text": [
      "<ipython-input-127-f079bf48fb6f>:3: SettingWithCopyWarning: \nA value is trying to be set on a copy of a slice from a DataFrame.\nTry using .loc[row_indexer,col_indexer] = value instead\n\nSee the caveats in the documentation: https://pandas.pydata.org/pandas-docs/stable/user_guide/indexing.html#returning-a-view-versus-a-copy\n  test2['pclass_mode'] = 1\n<ipython-input-127-f079bf48fb6f>:6: SettingWithCopyWarning: \nA value is trying to be set on a copy of a slice from a DataFrame\n\nSee the caveats in the documentation: https://pandas.pydata.org/pandas-docs/stable/user_guide/indexing.html#returning-a-view-versus-a-copy\n  test2['pclass_mode'][test2.Pclass == (i)] = train2['Survived'][train2.Pclass == (i)].mode()[0]\nc:\\Users\\Neelam\\Desktop\\Desktop\\Python\\Video\\env\\lib\\site-packages\\pandas\\core\\series.py:963: SettingWithCopyWarning: \nA value is trying to be set on a copy of a slice from a DataFrame\n\nSee the caveats in the documentation: https://pandas.pydata.org/pandas-docs/stable/user_guide/indexing.html#returning-a-view-versus-a-copy\n  self._where(~key, value, inplace=True)\n<ipython-input-127-f079bf48fb6f>:6: SettingWithCopyWarning: \nA value is trying to be set on a copy of a slice from a DataFrame\n\nSee the caveats in the documentation: https://pandas.pydata.org/pandas-docs/stable/user_guide/indexing.html#returning-a-view-versus-a-copy\n  test2['pclass_mode'][test2.Pclass == (i)] = train2['Survived'][train2.Pclass == (i)].mode()[0]\nc:\\Users\\Neelam\\Desktop\\Desktop\\Python\\Video\\env\\lib\\site-packages\\pandas\\core\\series.py:963: SettingWithCopyWarning: \nA value is trying to be set on a copy of a slice from a DataFrame\n\nSee the caveats in the documentation: https://pandas.pydata.org/pandas-docs/stable/user_guide/indexing.html#returning-a-view-versus-a-copy\n  self._where(~key, value, inplace=True)\n<ipython-input-127-f079bf48fb6f>:6: SettingWithCopyWarning: \nA value is trying to be set on a copy of a slice from a DataFrame\n\nSee the caveats in the documentation: https://pandas.pydata.org/pandas-docs/stable/user_guide/indexing.html#returning-a-view-versus-a-copy\n  test2['pclass_mode'][test2.Pclass == (i)] = train2['Survived'][train2.Pclass == (i)].mode()[0]\nc:\\Users\\Neelam\\Desktop\\Desktop\\Python\\Video\\env\\lib\\site-packages\\pandas\\core\\series.py:963: SettingWithCopyWarning: \nA value is trying to be set on a copy of a slice from a DataFrame\n\nSee the caveats in the documentation: https://pandas.pydata.org/pandas-docs/stable/user_guide/indexing.html#returning-a-view-versus-a-copy\n  self._where(~key, value, inplace=True)\n"
     ]
    }
   ],
   "source": [
    "#Lets use this to idenify the accuracy. So, as per mode, anyone who belongs to Pclass 1 will survive, anyone from Pclass 2 will not survive, anyone from Pclass 3 will not survive\n",
    "\n",
    "test2['pclass_mode'] = 1\n",
    "\n",
    "for i in test2['Pclass'].unique():\n",
    "    test2['pclass_mode'][test2.Pclass == (i)] = train2['Survived'][train2.Pclass == (i)].mode()[0]"
   ]
  },
  {
   "cell_type": "code",
   "execution_count": 128,
   "metadata": {},
   "outputs": [
    {
     "output_type": "execute_result",
     "data": {
      "text/plain": [
       "0.6678966789667896"
      ]
     },
     "metadata": {},
     "execution_count": 128
    }
   ],
   "source": [
    "pclass_mode_accuracy = accuracy_score(test2.Survived, test2.pclass_mode)\n",
    "\n",
    "pclass_mode_accuracy"
   ]
  },
  {
   "cell_type": "code",
   "execution_count": 136,
   "metadata": {},
   "outputs": [
    {
     "output_type": "execute_result",
     "data": {
      "text/plain": [
       "     PassengerId  Survived  Pclass  \\\n",
       "714          715         0       2   \n",
       "150          151         0       2   \n",
       "705          706         0       2   \n",
       "463          464         0       2   \n",
       "123          124         1       2   \n",
       "\n",
       "                                               Name     Sex   Age  SibSp  \\\n",
       "714                           Greenberg, Mr. Samuel    male  52.0      0   \n",
       "150                      Bateman, Rev. Robert James    male  51.0      0   \n",
       "705  Morley, Mr. Henry Samuel (\"Mr Henry Marshall\")    male  39.0      0   \n",
       "463                    Milling, Mr. Jacob Christian    male  48.0      0   \n",
       "123                             Webber, Miss. Susan  female  32.5      0   \n",
       "\n",
       "     Parch       Ticket    Fare Cabin Embarked  simple_mode  gender_mode  \\\n",
       "714      0       250647  13.000   NaN        S            0            0   \n",
       "150      0  S.O.P. 1166  12.525   NaN        S            0            0   \n",
       "705      0       250655  26.000   NaN        S            0            0   \n",
       "463      0       234360  13.000   NaN        S            0            0   \n",
       "123      0        27267  13.000  E101        S            0            1   \n",
       "\n",
       "     pclass_mode  \n",
       "714            0  \n",
       "150            0  \n",
       "705            0  \n",
       "463            0  \n",
       "123            0  "
      ],
      "text/html": "<div>\n<style scoped>\n    .dataframe tbody tr th:only-of-type {\n        vertical-align: middle;\n    }\n\n    .dataframe tbody tr th {\n        vertical-align: top;\n    }\n\n    .dataframe thead th {\n        text-align: right;\n    }\n</style>\n<table border=\"1\" class=\"dataframe\">\n  <thead>\n    <tr style=\"text-align: right;\">\n      <th></th>\n      <th>PassengerId</th>\n      <th>Survived</th>\n      <th>Pclass</th>\n      <th>Name</th>\n      <th>Sex</th>\n      <th>Age</th>\n      <th>SibSp</th>\n      <th>Parch</th>\n      <th>Ticket</th>\n      <th>Fare</th>\n      <th>Cabin</th>\n      <th>Embarked</th>\n      <th>simple_mode</th>\n      <th>gender_mode</th>\n      <th>pclass_mode</th>\n    </tr>\n  </thead>\n  <tbody>\n    <tr>\n      <th>714</th>\n      <td>715</td>\n      <td>0</td>\n      <td>2</td>\n      <td>Greenberg, Mr. Samuel</td>\n      <td>male</td>\n      <td>52.0</td>\n      <td>0</td>\n      <td>0</td>\n      <td>250647</td>\n      <td>13.000</td>\n      <td>NaN</td>\n      <td>S</td>\n      <td>0</td>\n      <td>0</td>\n      <td>0</td>\n    </tr>\n    <tr>\n      <th>150</th>\n      <td>151</td>\n      <td>0</td>\n      <td>2</td>\n      <td>Bateman, Rev. Robert James</td>\n      <td>male</td>\n      <td>51.0</td>\n      <td>0</td>\n      <td>0</td>\n      <td>S.O.P. 1166</td>\n      <td>12.525</td>\n      <td>NaN</td>\n      <td>S</td>\n      <td>0</td>\n      <td>0</td>\n      <td>0</td>\n    </tr>\n    <tr>\n      <th>705</th>\n      <td>706</td>\n      <td>0</td>\n      <td>2</td>\n      <td>Morley, Mr. Henry Samuel (\"Mr Henry Marshall\")</td>\n      <td>male</td>\n      <td>39.0</td>\n      <td>0</td>\n      <td>0</td>\n      <td>250655</td>\n      <td>26.000</td>\n      <td>NaN</td>\n      <td>S</td>\n      <td>0</td>\n      <td>0</td>\n      <td>0</td>\n    </tr>\n    <tr>\n      <th>463</th>\n      <td>464</td>\n      <td>0</td>\n      <td>2</td>\n      <td>Milling, Mr. Jacob Christian</td>\n      <td>male</td>\n      <td>48.0</td>\n      <td>0</td>\n      <td>0</td>\n      <td>234360</td>\n      <td>13.000</td>\n      <td>NaN</td>\n      <td>S</td>\n      <td>0</td>\n      <td>0</td>\n      <td>0</td>\n    </tr>\n    <tr>\n      <th>123</th>\n      <td>124</td>\n      <td>1</td>\n      <td>2</td>\n      <td>Webber, Miss. Susan</td>\n      <td>female</td>\n      <td>32.5</td>\n      <td>0</td>\n      <td>0</td>\n      <td>27267</td>\n      <td>13.000</td>\n      <td>E101</td>\n      <td>S</td>\n      <td>0</td>\n      <td>1</td>\n      <td>0</td>\n    </tr>\n  </tbody>\n</table>\n</div>"
     },
     "metadata": {},
     "execution_count": 136
    }
   ],
   "source": [
    "test2[test2['Pclass'] == 2].head()"
   ]
  },
  {
   "source": [
    "The accuracy improved from 0.63 to 0.66"
   ],
   "cell_type": "markdown",
   "metadata": {}
  },
  {
   "cell_type": "code",
   "execution_count": 139,
   "metadata": {},
   "outputs": [
    {
     "output_type": "execute_result",
     "data": {
      "text/plain": [
       "PassengerId    621\n",
       "Survived         2\n",
       "Pclass           3\n",
       "Name           621\n",
       "Sex              2\n",
       "Age             82\n",
       "SibSp            7\n",
       "Parch            7\n",
       "Ticket         507\n",
       "Fare           215\n",
       "Cabin          111\n",
       "Embarked         3\n",
       "dtype: int64"
      ]
     },
     "metadata": {},
     "execution_count": 139
    }
   ],
   "source": []
  },
  {
   "source": [
    "## Mode on Embarked"
   ],
   "cell_type": "markdown",
   "metadata": {}
  },
  {
   "cell_type": "code",
   "execution_count": 140,
   "metadata": {},
   "outputs": [
    {
     "output_type": "execute_result",
     "data": {
      "text/plain": [
       "Embarked   C   Q    S\n",
       "Survived             \n",
       "0         56  39  283\n",
       "1         70  19  152"
      ],
      "text/html": "<div>\n<style scoped>\n    .dataframe tbody tr th:only-of-type {\n        vertical-align: middle;\n    }\n\n    .dataframe tbody tr th {\n        vertical-align: top;\n    }\n\n    .dataframe thead th {\n        text-align: right;\n    }\n</style>\n<table border=\"1\" class=\"dataframe\">\n  <thead>\n    <tr style=\"text-align: right;\">\n      <th>Embarked</th>\n      <th>C</th>\n      <th>Q</th>\n      <th>S</th>\n    </tr>\n    <tr>\n      <th>Survived</th>\n      <th></th>\n      <th></th>\n      <th></th>\n    </tr>\n  </thead>\n  <tbody>\n    <tr>\n      <th>0</th>\n      <td>56</td>\n      <td>39</td>\n      <td>283</td>\n    </tr>\n    <tr>\n      <th>1</th>\n      <td>70</td>\n      <td>19</td>\n      <td>152</td>\n    </tr>\n  </tbody>\n</table>\n</div>"
     },
     "metadata": {},
     "execution_count": 140
    }
   ],
   "source": [
    "embarked_mode = pd.crosstab(train2.Survived, train2.Embarked)\n",
    "embarked_mode"
   ]
  },
  {
   "cell_type": "code",
   "execution_count": 143,
   "metadata": {},
   "outputs": [
    {
     "output_type": "stream",
     "name": "stderr",
     "text": [
      "<ipython-input-143-7119ea4b732f>:1: SettingWithCopyWarning: \nA value is trying to be set on a copy of a slice from a DataFrame.\nTry using .loc[row_indexer,col_indexer] = value instead\n\nSee the caveats in the documentation: https://pandas.pydata.org/pandas-docs/stable/user_guide/indexing.html#returning-a-view-versus-a-copy\n  test2['Embarked_mode'] = 1\n<ipython-input-143-7119ea4b732f>:4: SettingWithCopyWarning: \nA value is trying to be set on a copy of a slice from a DataFrame\n\nSee the caveats in the documentation: https://pandas.pydata.org/pandas-docs/stable/user_guide/indexing.html#returning-a-view-versus-a-copy\n  test2['Embarked_mode'][test2.Embarked == str(i)] = train2['Survived'][train2.Embarked == str(i)].mode()[0]\nc:\\Users\\Neelam\\Desktop\\Desktop\\Python\\Video\\env\\lib\\site-packages\\pandas\\core\\series.py:963: SettingWithCopyWarning: \nA value is trying to be set on a copy of a slice from a DataFrame\n\nSee the caveats in the documentation: https://pandas.pydata.org/pandas-docs/stable/user_guide/indexing.html#returning-a-view-versus-a-copy\n  self._where(~key, value, inplace=True)\n"
     ]
    }
   ],
   "source": [
    "test2['Embarked_mode'] = 1\n",
    "\n",
    "for i in test2['Embarked'].unique():\n",
    "    test2['Embarked_mode'][test2.Embarked == str(i)] = train2['Survived'][train2.Embarked == str(i)].mode()[0]"
   ]
  },
  {
   "cell_type": "code",
   "execution_count": 144,
   "metadata": {},
   "outputs": [
    {
     "output_type": "execute_result",
     "data": {
      "text/plain": [
       "0.6494464944649446"
      ]
     },
     "metadata": {},
     "execution_count": 144
    }
   ],
   "source": [
    "pclass_mode_accuracy = accuracy_score(test2.Survived, test2.Embarked_mode)\n",
    "\n",
    "pclass_mode_accuracy"
   ]
  },
  {
   "source": [
    "Pclass is only slightly better than based on Embark"
   ],
   "cell_type": "markdown",
   "metadata": {}
  },
  {
   "source": [
    "## Survival with respect to both Gender_mode and Pclass_mode\n",
    "\n",
    "Now we will use 2 features to create our model. Making the model more complex"
   ],
   "cell_type": "markdown",
   "metadata": {}
  },
  {
   "cell_type": "code",
   "execution_count": 150,
   "metadata": {},
   "outputs": [],
   "source": [
    "    from scipy.stats import mode\n"
   ]
  },
  {
   "cell_type": "code",
   "execution_count": 162,
   "metadata": {},
   "outputs": [
    {
     "output_type": "execute_result",
     "data": {
      "text/plain": [
       "               Survived\n",
       "Sex    Pclass          \n",
       "female 1             66\n",
       "       2             59\n",
       "       3             99\n",
       "male   1             81\n",
       "       2             72\n",
       "       3            244"
      ],
      "text/html": "<div>\n<style scoped>\n    .dataframe tbody tr th:only-of-type {\n        vertical-align: middle;\n    }\n\n    .dataframe tbody tr th {\n        vertical-align: top;\n    }\n\n    .dataframe thead th {\n        text-align: right;\n    }\n</style>\n<table border=\"1\" class=\"dataframe\">\n  <thead>\n    <tr style=\"text-align: right;\">\n      <th></th>\n      <th></th>\n      <th>Survived</th>\n    </tr>\n    <tr>\n      <th>Sex</th>\n      <th>Pclass</th>\n      <th></th>\n    </tr>\n  </thead>\n  <tbody>\n    <tr>\n      <th rowspan=\"3\" valign=\"top\">female</th>\n      <th>1</th>\n      <td>66</td>\n    </tr>\n    <tr>\n      <th>2</th>\n      <td>59</td>\n    </tr>\n    <tr>\n      <th>3</th>\n      <td>99</td>\n    </tr>\n    <tr>\n      <th rowspan=\"3\" valign=\"top\">male</th>\n      <th>1</th>\n      <td>81</td>\n    </tr>\n    <tr>\n      <th>2</th>\n      <td>72</td>\n    </tr>\n    <tr>\n      <th>3</th>\n      <td>244</td>\n    </tr>\n  </tbody>\n</table>\n</div>"
     },
     "metadata": {},
     "execution_count": 162
    }
   ],
   "source": [
    "all_mode = pd.pivot_table(train2, values='Survived', index=['Sex', 'Pclass'], aggfunc='count')\n",
    "all_mode"
   ]
  },
  {
   "cell_type": "code",
   "execution_count": 164,
   "metadata": {},
   "outputs": [
    {
     "output_type": "stream",
     "name": "stderr",
     "text": [
      "<ipython-input-164-9c1bca7d63ef>:2: SettingWithCopyWarning: \nA value is trying to be set on a copy of a slice from a DataFrame.\nTry using .loc[row_indexer,col_indexer] = value instead\n\nSee the caveats in the documentation: https://pandas.pydata.org/pandas-docs/stable/user_guide/indexing.html#returning-a-view-versus-a-copy\n  test2['all_mode'] = 0\n<ipython-input-164-9c1bca7d63ef>:13: SettingWithCopyWarning: \nA value is trying to be set on a copy of a slice from a DataFrame\n\nSee the caveats in the documentation: https://pandas.pydata.org/pandas-docs/stable/user_guide/indexing.html#returning-a-view-versus-a-copy\n  test2['all_mode'][(test2[s1] == i) & (test2[s2]==str(j))] = train2['Survived'][(train2[s1] == i) & (train2[s2]==str(j))].mode()[0]\nc:\\Users\\Neelam\\Desktop\\Desktop\\Python\\Video\\env\\lib\\site-packages\\pandas\\core\\series.py:963: SettingWithCopyWarning: \nA value is trying to be set on a copy of a slice from a DataFrame\n\nSee the caveats in the documentation: https://pandas.pydata.org/pandas-docs/stable/user_guide/indexing.html#returning-a-view-versus-a-copy\n  self._where(~key, value, inplace=True)\n<ipython-input-164-9c1bca7d63ef>:13: SettingWithCopyWarning: \nA value is trying to be set on a copy of a slice from a DataFrame\n\nSee the caveats in the documentation: https://pandas.pydata.org/pandas-docs/stable/user_guide/indexing.html#returning-a-view-versus-a-copy\n  test2['all_mode'][(test2[s1] == i) & (test2[s2]==str(j))] = train2['Survived'][(train2[s1] == i) & (train2[s2]==str(j))].mode()[0]\nc:\\Users\\Neelam\\Desktop\\Desktop\\Python\\Video\\env\\lib\\site-packages\\pandas\\core\\series.py:963: SettingWithCopyWarning: \nA value is trying to be set on a copy of a slice from a DataFrame\n\nSee the caveats in the documentation: https://pandas.pydata.org/pandas-docs/stable/user_guide/indexing.html#returning-a-view-versus-a-copy\n  self._where(~key, value, inplace=True)\n<ipython-input-164-9c1bca7d63ef>:13: SettingWithCopyWarning: \nA value is trying to be set on a copy of a slice from a DataFrame\n\nSee the caveats in the documentation: https://pandas.pydata.org/pandas-docs/stable/user_guide/indexing.html#returning-a-view-versus-a-copy\n  test2['all_mode'][(test2[s1] == i) & (test2[s2]==str(j))] = train2['Survived'][(train2[s1] == i) & (train2[s2]==str(j))].mode()[0]\nc:\\Users\\Neelam\\Desktop\\Desktop\\Python\\Video\\env\\lib\\site-packages\\pandas\\core\\series.py:963: SettingWithCopyWarning: \nA value is trying to be set on a copy of a slice from a DataFrame\n\nSee the caveats in the documentation: https://pandas.pydata.org/pandas-docs/stable/user_guide/indexing.html#returning-a-view-versus-a-copy\n  self._where(~key, value, inplace=True)\n<ipython-input-164-9c1bca7d63ef>:13: SettingWithCopyWarning: \nA value is trying to be set on a copy of a slice from a DataFrame\n\nSee the caveats in the documentation: https://pandas.pydata.org/pandas-docs/stable/user_guide/indexing.html#returning-a-view-versus-a-copy\n  test2['all_mode'][(test2[s1] == i) & (test2[s2]==str(j))] = train2['Survived'][(train2[s1] == i) & (train2[s2]==str(j))].mode()[0]\nc:\\Users\\Neelam\\Desktop\\Desktop\\Python\\Video\\env\\lib\\site-packages\\pandas\\core\\series.py:963: SettingWithCopyWarning: \nA value is trying to be set on a copy of a slice from a DataFrame\n\nSee the caveats in the documentation: https://pandas.pydata.org/pandas-docs/stable/user_guide/indexing.html#returning-a-view-versus-a-copy\n  self._where(~key, value, inplace=True)\n<ipython-input-164-9c1bca7d63ef>:13: SettingWithCopyWarning: \nA value is trying to be set on a copy of a slice from a DataFrame\n\nSee the caveats in the documentation: https://pandas.pydata.org/pandas-docs/stable/user_guide/indexing.html#returning-a-view-versus-a-copy\n  test2['all_mode'][(test2[s1] == i) & (test2[s2]==str(j))] = train2['Survived'][(train2[s1] == i) & (train2[s2]==str(j))].mode()[0]\nc:\\Users\\Neelam\\Desktop\\Desktop\\Python\\Video\\env\\lib\\site-packages\\pandas\\core\\series.py:963: SettingWithCopyWarning: \nA value is trying to be set on a copy of a slice from a DataFrame\n\nSee the caveats in the documentation: https://pandas.pydata.org/pandas-docs/stable/user_guide/indexing.html#returning-a-view-versus-a-copy\n  self._where(~key, value, inplace=True)\n<ipython-input-164-9c1bca7d63ef>:13: SettingWithCopyWarning: \nA value is trying to be set on a copy of a slice from a DataFrame\n\nSee the caveats in the documentation: https://pandas.pydata.org/pandas-docs/stable/user_guide/indexing.html#returning-a-view-versus-a-copy\n  test2['all_mode'][(test2[s1] == i) & (test2[s2]==str(j))] = train2['Survived'][(train2[s1] == i) & (train2[s2]==str(j))].mode()[0]\nc:\\Users\\Neelam\\Desktop\\Desktop\\Python\\Video\\env\\lib\\site-packages\\pandas\\core\\series.py:963: SettingWithCopyWarning: \nA value is trying to be set on a copy of a slice from a DataFrame\n\nSee the caveats in the documentation: https://pandas.pydata.org/pandas-docs/stable/user_guide/indexing.html#returning-a-view-versus-a-copy\n  self._where(~key, value, inplace=True)\n"
     ]
    }
   ],
   "source": [
    "# Initiating new empty column\n",
    "test2['all_mode'] = 0\n",
    "\n",
    "# Assigning variables to strings ( to shorten code length)\n",
    "s2 = 'Sex'\n",
    "s1 = 'Pclass'\n",
    "\n",
    "# For every Unique Value in s1\n",
    "for i in test2[s1].unique():\n",
    "  # For every Unique Value in s2\n",
    "  for j in test2[s2].unique():\n",
    "    # Calculate and Assign mean to new column, corresponding to both unique values of s1 and s2 simultaneously\n",
    "    test2['all_mode'][(test2[s1] == i) & (test2[s2]==str(j))] = train2['Survived'][(train2[s1] == i) & (train2[s2]==str(j))].mode()[0]"
   ]
  },
  {
   "cell_type": "code",
   "execution_count": 165,
   "metadata": {},
   "outputs": [
    {
     "output_type": "execute_result",
     "data": {
      "text/plain": [
       "0.7859778597785978"
      ]
     },
     "metadata": {},
     "execution_count": 165
    }
   ],
   "source": [
    "all_mode_accuracy = accuracy_score(test2.all_mode, test2.Survived)\n",
    "all_mode_accuracy"
   ]
  },
  {
   "source": [
    "Accuracy didn't change much as compared to accuracy based on Gender"
   ],
   "cell_type": "markdown",
   "metadata": {}
  },
  {
   "cell_type": "code",
   "execution_count": null,
   "metadata": {},
   "outputs": [],
   "source": []
  }
 ]
}